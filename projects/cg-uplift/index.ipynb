{
  "cells": [
    {
      "cell_type": "raw",
      "metadata": {},
      "source": [
        "---\n",
        "title: Machine Learning for Uplift\n",
        "author: Duyen Tran\n",
        "\n",
        "---"
      ],
      "id": "fe237b17"
    },
    {
      "cell_type": "markdown",
      "metadata": {},
      "source": [
        "#### Model used in this project:\n",
        "\n",
        "- Logistic Regression\n",
        "- Random Forest\n",
        "- XGBoost\n",
        "- Neural Network\n",
        "\n",
        "This project will provide insights into the relative strengths and weaknesses of each modeling approach in the context of direct marketing, with a particular focus on maximizing the return on investment for marketing campaigns.\n",
        "\n",
        "#### Short process:\n",
        "\n",
        "- Executing a comprehensive analysis of predictive modeling techniques to refine customer targeting strategies. The techniques under comparison include logistic regression, neural networks, random forests, and XGBoost.\n",
        "\n",
        "- Implementing uplift modeling to evaluate the additional impact of targeting specific customers with marketing efforts.\n",
        "\n",
        "- Employing propensity scoring methods to estimate the probability of customer responses based on historical interaction data.\n",
        "\n",
        "- Main objective: Identify the modeling technique that most effectively pinpoints the top 30,000 customers from a pool of 120,000 who would yield the highest profit when targeted.\n",
        "\n",
        "- Uplift modeling is pivotal in understanding the causal effect of the marketing action, whereas the propensity score approach focuses on the predicted likelihood of customer behavior.\n",
        "\n",
        "- Post-identification of the top-performing model, an additional objective is to analyze and establish the most profitable segment size for targeting purposes, potentially adjusting the initial 30,000 target figure to optimize outreach and profitability.\n",
        "\n",
        "The results from this study aim to guide marketing strategies, ensuring resource allocation is both efficient and effective.\n",
        "\n",
        "The findings are expected to serve as a decision-making framework for marketing leaders in optimizing campaign strategies and improving customer engagement and retention.\n"
      ],
      "id": "2f0bb6c8"
    },
    {
      "cell_type": "code",
      "metadata": {},
      "source": [
        "import pandas as pd\n",
        "import numpy as np\n",
        "import pyrsm as rsm\n",
        "from sklearn.model_selection import GridSearchCV\n",
        "# setup pyrsm for autoreload\n",
        "%reload_ext autoreload\n",
        "%autoreload 2\n",
        "%aimport pyrsm"
      ],
      "id": "aaca1fe6",
      "execution_count": null,
      "outputs": []
    },
    {
      "cell_type": "code",
      "metadata": {},
      "source": [
        "## loading the organic data - this dataset must NOT be changed\n",
        "cg_organic_control = pd.read_parquet(\"cg_organic_control.parquet\").reset_index(drop=True)\n",
        "cg_organic_control.head()"
      ],
      "id": "f461ac40",
      "execution_count": null,
      "outputs": []
    },
    {
      "cell_type": "code",
      "metadata": {},
      "source": [
        "rsm.md(\"cg_organic_control_description.md\")"
      ],
      "id": "c3bf348e",
      "execution_count": null,
      "outputs": []
    },
    {
      "cell_type": "code",
      "metadata": {},
      "source": [
        "## loading the treatment data\n",
        "cg_ad_treatment = pd.read_parquet(\"cg_ad_treatment.parquet\").reset_index(drop=True)\n",
        "cg_ad_treatment.head()"
      ],
      "id": "827bd684",
      "execution_count": null,
      "outputs": []
    },
    {
      "cell_type": "code",
      "metadata": {},
      "source": [
        "rsm.md(\"cg_ad_treatment_description.md\")"
      ],
      "id": "4b6f9bfb",
      "execution_count": null,
      "outputs": []
    },
    {
      "cell_type": "code",
      "metadata": {},
      "source": [
        "# Load the ad random data\"\n",
        "cg_ad_random = pd.read_parquet(\"cg_ad_random.parquet\")\n",
        "cg_ad_random"
      ],
      "id": "4f38cd9d",
      "execution_count": null,
      "outputs": []
    },
    {
      "cell_type": "markdown",
      "metadata": {},
      "source": [
        "## Part I: Uplift Modeling Using Machine Learning\n",
        "\n",
        "### 1. Prepare the data\n"
      ],
      "id": "e79c9217"
    },
    {
      "cell_type": "code",
      "metadata": {},
      "source": [
        "# a. Add \"ad\" to cg_ad_random and set its value to 1 for all rows\n",
        "cg_ad_random[\"ad\"] = 1\n",
        "cg_ad_random"
      ],
      "id": "acf31a16",
      "execution_count": null,
      "outputs": []
    },
    {
      "cell_type": "code",
      "metadata": {},
      "source": [
        "# b. Add \"ad\" to cg_organic_control and set its value to 0 for all rows\n",
        "cg_organic_control[\"ad\"] = 0\n",
        "cg_organic_control"
      ],
      "id": "8c15b3d8",
      "execution_count": null,
      "outputs": []
    },
    {
      "cell_type": "code",
      "metadata": {},
      "source": [
        "# c. Create a stacked dataset by combining cg_ad_random and cg_organic_control\n",
        "cg_rct_stacked = pd.concat([cg_ad_random, cg_organic_control], axis=0)\n",
        "cg_rct_stacked"
      ],
      "id": "655fee26",
      "execution_count": null,
      "outputs": []
    },
    {
      "cell_type": "code",
      "metadata": {},
      "source": [
        "cg_rct_stacked['converted_yes']= rsm.ifelse(\n",
        "    cg_rct_stacked.converted == \"yes\", 1, rsm.ifelse(cg_rct_stacked.converted == \"no\", 0, np.nan)\n",
        ")\n",
        "cg_rct_stacked"
      ],
      "id": "971bb62a",
      "execution_count": null,
      "outputs": []
    },
    {
      "cell_type": "code",
      "metadata": {},
      "source": [
        "# d. Create a training variable\n",
        "cg_rct_stacked['training'] = rsm.model.make_train(\n",
        "    data=cg_rct_stacked, test_size=0.3, strat_var=['converted', 'ad'], random_state = 1234)\n",
        "\n",
        "# Check the proportions of the training variable\n",
        "cg_rct_stacked.training.value_counts(normalize=True)"
      ],
      "id": "51e4d8d3",
      "execution_count": null,
      "outputs": []
    },
    {
      "cell_type": "code",
      "metadata": {},
      "source": [
        "pd.crosstab(cg_rct_stacked.converted, [cg_rct_stacked.ad, cg_rct_stacked.training]).round(2)"
      ],
      "id": "94f2ba0e",
      "execution_count": null,
      "outputs": []
    },
    {
      "cell_type": "code",
      "metadata": {},
      "source": [
        "len(cg_rct_stacked.query('training == 0 & ad == 0'))"
      ],
      "id": "74724192",
      "execution_count": null,
      "outputs": []
    },
    {
      "cell_type": "code",
      "metadata": {},
      "source": [
        "len(cg_rct_stacked.query('training == 0 & ad == 1'))"
      ],
      "id": "8a0e3f70",
      "execution_count": null,
      "outputs": []
    },
    {
      "cell_type": "code",
      "metadata": {},
      "source": [
        "# e. Check if the proportion of the training variable is similar across the ad and control groups\n",
        "pd.crosstab(\n",
        "    cg_rct_stacked.converted, [cg_rct_stacked.ad, cg_rct_stacked.training], normalize=\"columns\"\n",
        ").round(3)"
      ],
      "id": "331e8b00",
      "execution_count": null,
      "outputs": []
    },
    {
      "cell_type": "markdown",
      "metadata": {},
      "source": [
        "### Using Logistic Regression\n",
        "\n",
        "#### 2. Train an uplift model\n"
      ],
      "id": "c746cbe2"
    },
    {
      "cell_type": "code",
      "metadata": {},
      "source": [
        "# Assign variables to evar\n",
        "evar = [\n",
        "        \"GameLevel\",\n",
        "        \"NumGameDays\",\n",
        "        \"NumGameDays4Plus\",\n",
        "        \"NumInGameMessagesSent\",\n",
        "        \"NumFriends\",\n",
        "        \"NumFriendRequestIgnored\",\n",
        "        \"NumSpaceHeroBadges\",\n",
        "        \"AcquiredSpaceship\",\n",
        "        \"AcquiredIonWeapon\",\n",
        "        \"TimesLostSpaceship\",\n",
        "        \"TimesKilled\",\n",
        "        \"TimesCaptain\",\n",
        "        \"TimesNavigator\",\n",
        "        \"PurchasedCoinPackSmall\",\n",
        "        \"PurchasedCoinPackLarge\",\n",
        "        \"NumAdsClicked\",\n",
        "        \"DaysUser\",\n",
        "        \"UserConsole\",\n",
        "        \"UserHasOldOS\"\n",
        "    ]"
      ],
      "id": "ed965624",
      "execution_count": null,
      "outputs": []
    },
    {
      "cell_type": "code",
      "metadata": {},
      "source": [
        "lr_treatment = rsm.model.logistic(\n",
        "    data = {'cg_rct_stacked': cg_rct_stacked.query(\"training == 1 & ad == 1\")},\n",
        "    rvar = 'converted',\n",
        "    lev = 'yes',\n",
        "    evar = evar,\n",
        ")\n",
        "lr_treatment.summary()"
      ],
      "id": "c3c35d82",
      "execution_count": null,
      "outputs": []
    },
    {
      "cell_type": "code",
      "metadata": {},
      "source": [
        "lr_control = rsm.model.logistic(\n",
        "    data={'cg_rct_stacked': cg_rct_stacked.query(\"training == 1 & ad == 0\")},\n",
        "    rvar = 'converted',\n",
        "    lev = 'yes',\n",
        "    evar = evar\n",
        ")\n",
        "lr_control.summary()"
      ],
      "id": "4afca67e",
      "execution_count": null,
      "outputs": []
    },
    {
      "cell_type": "markdown",
      "metadata": {},
      "source": [
        "#### Create predictions\n"
      ],
      "id": "ebe69455"
    },
    {
      "cell_type": "code",
      "metadata": {},
      "source": [
        "cg_rct_stacked[\"pred_treatment\"] = lr_treatment.predict(cg_rct_stacked)[\"prediction\"]\n",
        "cg_rct_stacked[\"pred_control\"] = lr_control.predict(cg_rct_stacked)[\"prediction\"]"
      ],
      "id": "54b77d6f",
      "execution_count": null,
      "outputs": []
    },
    {
      "cell_type": "code",
      "metadata": {},
      "source": [
        "pred_store = pd.DataFrame({\n",
        "    \"pred_treatment\": cg_rct_stacked.pred_treatment,\n",
        "    \"pred_control\": cg_rct_stacked.pred_control\n",
        "})\n",
        "pred_store"
      ],
      "id": "71b749b9",
      "execution_count": null,
      "outputs": []
    },
    {
      "cell_type": "code",
      "metadata": {},
      "source": [
        "cg_rct_stacked[\"uplift_score\"] = (\n",
        "    cg_rct_stacked.pred_treatment - cg_rct_stacked.pred_control\n",
        ")"
      ],
      "id": "20af0f53",
      "execution_count": null,
      "outputs": []
    },
    {
      "cell_type": "markdown",
      "metadata": {},
      "source": [
        "#### 3. Calculate the Uplift and Incremental Uplift\n"
      ],
      "id": "ec6959fc"
    },
    {
      "cell_type": "code",
      "metadata": {},
      "source": [
        "uplift_tab = rsm.uplift_tab(\n",
        "    cg_rct_stacked.query(\"training == 0\"), \"converted\", \"yes\", \"uplift_score\", \"ad\", 1, qnt = 20\n",
        ")\n",
        "uplift_tab"
      ],
      "id": "78da3104",
      "execution_count": null,
      "outputs": []
    },
    {
      "cell_type": "code",
      "metadata": {},
      "source": [
        "fig = rsm.inc_uplift_plot(\n",
        "    cg_rct_stacked.query(\"training == 0\"), \"converted\", \"yes\", \"uplift_score\", \"ad\", 1, qnt = 20\n",
        ")"
      ],
      "id": "c29c6ee7",
      "execution_count": null,
      "outputs": []
    },
    {
      "cell_type": "markdown",
      "metadata": {},
      "source": [
        "- The curve starts at 0% uplift when 0% of the population is targeted (as expected, because no one has been exposed to the campaign).\n",
        "\n",
        "- As the percentage of the targeted population increases, the incremental uplift also increases, suggesting that targeting more of the population is yielding positive results.\n",
        "\n",
        "- The curve rises sharply at first, indicating that initially targeting the most responsive segments of the population yields significant uplift.\n",
        "\n",
        "- After reaching a peak (which seems to be just under 80% of the population targeted), the incremental uplift begins to plateau or decrease slightly, suggesting that beyond this point, targeting additional segments of the population adds less value or could potentially include less responsive or non-responsive individuals.\n"
      ],
      "id": "9e1052bd"
    },
    {
      "cell_type": "code",
      "metadata": {},
      "source": [
        "fig = rsm.uplift_plot(\n",
        "    cg_rct_stacked.query(\"training == 0\"), \"converted\", \"yes\", \"uplift_score\", \"ad\", 1, qnt = 20\n",
        ")"
      ],
      "id": "6ee0af45",
      "execution_count": null,
      "outputs": []
    },
    {
      "cell_type": "markdown",
      "metadata": {},
      "source": [
        "- The first decile (the top 10% predicted to be most responsive) shows the highest uplift, above 20%.\n",
        "\n",
        "- The uplift decreases across subsequent deciles, which is consistent with the expectation that the first deciles contain the most responsive individuals.\n",
        "\n",
        "- There is a noticeable decline in uplift as we move to higher deciles. The uplift becomes negative in the last deciles, indicating that targeting these segments would result in worse outcomes than if they were not targeted at all.\n",
        "\n",
        "- Negative uplift in the later deciles could indicate that the campaign has a counterproductive effect on these individuals or that they would have been better or equally likely to take the desired action without the campaign intervention.\n",
        "\n",
        "#### 4. Use the incremental_resp to calculate the profits\n"
      ],
      "id": "f7ca1368"
    },
    {
      "cell_type": "code",
      "metadata": {},
      "source": [
        "price = 14.99\n",
        "cost = 1.5"
      ],
      "id": "38fc476e",
      "execution_count": null,
      "outputs": []
    },
    {
      "cell_type": "code",
      "metadata": {},
      "source": [
        "target_row = uplift_tab[uplift_tab['cum_prop'] <= 0.25].iloc[-1]\n",
        "target_row"
      ],
      "id": "593dc476",
      "execution_count": null,
      "outputs": []
    },
    {
      "cell_type": "code",
      "metadata": {},
      "source": [
        "# Define the function to calculate the profit\n",
        "def prof_calc(data, price = 14.99, cost = 1.5):\n",
        "    # Given variables\n",
        "    target_customers = 30000\n",
        "    target_prop = 30000 / 120000\n",
        "\n",
        "    # Calculate the scale factor\n",
        "    scale_factor = 120000 / 9000\n",
        "\n",
        "    # Calculate the expected incremental customers and profits\n",
        "    target_row = data[data['cum_prop'] <= target_prop].iloc[-1]\n",
        "    profit = (price*target_row['incremental_resp'] - cost * target_row['T_n']) * scale_factor\n",
        "    return profit"
      ],
      "id": "cee8e840",
      "execution_count": null,
      "outputs": []
    },
    {
      "cell_type": "code",
      "metadata": {},
      "source": [
        "uplift_profit_logit = prof_calc(uplift_tab, 14.99, 1.5)\n",
        "uplift_profit_logit"
      ],
      "id": "4b088425",
      "execution_count": null,
      "outputs": []
    },
    {
      "cell_type": "markdown",
      "metadata": {},
      "source": [
        "#### 5. Calculate the uplift and Increatmental Uplift for Propensity Model\n"
      ],
      "id": "5379b083"
    },
    {
      "cell_type": "code",
      "metadata": {},
      "source": [
        "propensity_tab = rsm.uplift_tab(\n",
        "    cg_rct_stacked.query(\"training == 0\"), \"converted\", \"yes\", \"pred_treatment\", \"ad\", 1, qnt = 20)\n",
        "propensity_tab"
      ],
      "id": "a925f112",
      "execution_count": null,
      "outputs": []
    },
    {
      "cell_type": "code",
      "metadata": {},
      "source": [
        "fig = rsm.inc_uplift_plot(\n",
        "    cg_rct_stacked.query(\"training == 0\"), \"converted\", \"yes\", \"pred_treatment\", \"ad\", 1, qnt = 20)"
      ],
      "id": "ee9916df",
      "execution_count": null,
      "outputs": []
    },
    {
      "cell_type": "code",
      "metadata": {},
      "source": [
        "fig = rsm.uplift_plot(\n",
        "    cg_rct_stacked.query(\"training == 0\"), \n",
        "    \"converted\", \"yes\", \"pred_treatment\", \"ad\", 1, qnt = 20)"
      ],
      "id": "dce33e67",
      "execution_count": null,
      "outputs": []
    },
    {
      "cell_type": "markdown",
      "metadata": {},
      "source": [
        "#### Compare Uplift model and Propensity model\n"
      ],
      "id": "95a167f4"
    },
    {
      "cell_type": "code",
      "metadata": {},
      "source": [
        "fig = rsm.inc_uplift_plot(\n",
        "    cg_rct_stacked.query(\"training == 0\"),\n",
        "    \"converted\",\n",
        "    \"yes\",\n",
        "    [\"pred_treatment\", \"uplift_score\"],\n",
        "    \"ad\",\n",
        "    1, qnt = 20\n",
        ")"
      ],
      "id": "e086483f",
      "execution_count": null,
      "outputs": []
    },
    {
      "cell_type": "markdown",
      "metadata": {},
      "source": [
        "- Uplift Model Performance: The line for the uplift_score generally lies above the line for the pred_treatment, indicating that the uplift model consistently provides a higher incremental uplift across the different percentages of the population targeted.\n",
        "\n",
        "- Diminishing Returns: Both lines show a trend of diminishing returns as more of the population is targeted, with the incremental uplift peaking and then plateauing or slightly decreasing, suggesting an optimal targeting point before 100%.\n",
        "\n",
        "- Comparison: The propensity model appears to perform better than random targeting (which would be a straight line from the origin), but the uplift model is more effective in achieving incremental gains. This suggests that while the propensity model can identify likely responders, the uplift model is better at identifying those for whom the treatment would make a difference in their behavior.\n"
      ],
      "id": "8c2b1080"
    },
    {
      "cell_type": "code",
      "metadata": {},
      "source": [
        "fig = rsm.uplift_plot(\n",
        "    cg_rct_stacked.query(\"training == 0\"),\n",
        "    \"converted\",\n",
        "    \"yes\",\n",
        "    [\"pred_treatment\", \"uplift_score\"],\n",
        "    \"ad\",\n",
        "    1, qnt = 20\n",
        ")"
      ],
      "id": "f2bc151c",
      "execution_count": null,
      "outputs": []
    },
    {
      "cell_type": "markdown",
      "metadata": {},
      "source": [
        "- Uplift Distribution: Both sets of bars show a decrease in uplift as we move through the population segments, which is expected as the most responsive individuals are often targeted first.\n",
        "\n",
        "- Model Comparison: In some segments, the uplift_score bars are higher than the pred_treatment bars, reinforcing the idea that the uplift model is more effective in certain segments.\n",
        "\n",
        "- Negative Uplift: Towards the latter segments, both models show negative uplift, but the uplift_score model tends to have less severe negative values. The uplift model places customers with high incrementality in earlier deciles. The incrementality is lower for propensity model because it targets Persuadables and Sure Things whereas the uplift model targets only the former. This suggests that the uplift model may be better at minimizing the risk of targeting individuals who would have a negative response to the treatment.\n",
        "\n",
        "That said, the propensity model still performs well here; this is because the customers who have the best propensity also tend to have the best uplift in this data:\n"
      ],
      "id": "0e7c3de6"
    },
    {
      "cell_type": "code",
      "metadata": {},
      "source": [
        "cm = rsm.correlation(\n",
        "    {\"cg_rct_stacked\": cg_rct_stacked.loc[cg_rct_stacked.training == 0, \"pred_treatment\": \"uplift_score\"]})\n",
        "cm.summary()"
      ],
      "id": "b93f6214",
      "execution_count": null,
      "outputs": []
    },
    {
      "cell_type": "markdown",
      "metadata": {},
      "source": [
        "The positive correlation between pred_treatment and uplift_score is in line with what we would expect, as a higher predicted treatment response should correspond with a higher uplift score. The negative correlation between pred_control and uplift_score suggests that individuals who are likely to respond without any intervention (as predicted by the control model) are properly being identified as not contributing to uplift, which is a desirable feature of a good uplift model.\n",
        "\n",
        "#### 6. Use the incremental_resp to calculate the profits for Propensity Model\n"
      ],
      "id": "34a8de89"
    },
    {
      "cell_type": "code",
      "metadata": {},
      "source": [
        "propensity_profit_logit = prof_calc(propensity_tab, 14.99, 1.5)\n",
        "propensity_profit_logit"
      ],
      "id": "bfab0f48",
      "execution_count": null,
      "outputs": []
    },
    {
      "cell_type": "code",
      "metadata": {},
      "source": [
        "# Difference in profits from using uplift model and propensity model\n",
        "difference_logit = uplift_profit_logit - propensity_profit_logit\n",
        "difference_logit"
      ],
      "id": "977e9bda",
      "execution_count": null,
      "outputs": []
    },
    {
      "cell_type": "markdown",
      "metadata": {},
      "source": [
        "### Using Neural Network\n",
        "\n",
        "#### 2. Train an uplift model\n"
      ],
      "id": "d1e0e465"
    },
    {
      "cell_type": "code",
      "metadata": {},
      "source": [
        "clf_treatment = rsm.model.mlp(\n",
        "    data = {'cg_rct_stacked': cg_rct_stacked.query(\"training == 1 & ad == 1\")},\n",
        "    rvar = 'converted',\n",
        "    lev = 'yes',\n",
        "    evar = evar,\n",
        "    hidden_layer_sizes = (1, ),\n",
        "    alpha = 0.1\n",
        ")\n",
        "clf_treatment.summary()\n"
      ],
      "id": "17b98fa0",
      "execution_count": null,
      "outputs": []
    },
    {
      "cell_type": "markdown",
      "metadata": {},
      "source": [
        "#### Model Tuning\n"
      ],
      "id": "ec7f9c7c"
    },
    {
      "cell_type": "code",
      "metadata": {},
      "source": [
        "hls = [(1,), (2,), (3,), (3, 3), (4, 2), (5, 5), (5,), (10,), (5,10), (10,5)]\n",
        "alpha = [0.0001, 0.001, 0.01, 0.1, 1]\n",
        "\n",
        "\n",
        "param_grid = {\"hidden_layer_sizes\": hls, \"alpha\": alpha}\n",
        "scoring = {\"AUC\": \"roc_auc\"}\n",
        "\n",
        "clf_cv_treatment = GridSearchCV(\n",
        "    clf_treatment.fitted, param_grid, scoring=scoring, cv=5, n_jobs=4, refit=\"AUC\", verbose=5\n",
        ")"
      ],
      "id": "ce2a9a77",
      "execution_count": null,
      "outputs": []
    },
    {
      "cell_type": "code",
      "metadata": {},
      "source": [
        "clf_cv_treatment.fit(clf_treatment.data_onehot, clf_treatment.data.converted_yes)"
      ],
      "id": "88f0ad32",
      "execution_count": null,
      "outputs": []
    },
    {
      "cell_type": "code",
      "metadata": {},
      "source": [
        "clf_cv_treatment.best_params_"
      ],
      "id": "dccc0eb5",
      "execution_count": null,
      "outputs": []
    },
    {
      "cell_type": "code",
      "metadata": {},
      "source": [
        "clf_treatment = rsm.model.mlp(\n",
        "    data = {'cg_rct_stacked': cg_rct_stacked.query(\"training == 1 & ad == 1\")},\n",
        "    rvar = 'converted',\n",
        "    lev = 'yes',\n",
        "    evar = evar,\n",
        "    **clf_cv_treatment.best_params_\n",
        ")\n",
        "clf_treatment.summary()\n"
      ],
      "id": "b6c6ad64",
      "execution_count": null,
      "outputs": []
    },
    {
      "cell_type": "code",
      "metadata": {},
      "source": [
        "clf_control = rsm.model.mlp(\n",
        "    data = {'cg_rct_stacked': cg_rct_stacked.query(\"training == 1 & ad == 0\")},\n",
        "    rvar = 'converted',\n",
        "    lev = 'yes',\n",
        "    evar = evar,\n",
        "    hidden_layer_sizes = (1, ),\n",
        "    alpha = 0.0001\n",
        ")\n",
        "clf_control.summary()"
      ],
      "id": "a29e7c48",
      "execution_count": null,
      "outputs": []
    },
    {
      "cell_type": "code",
      "metadata": {},
      "source": [
        "# Model tunning\n",
        "clf_cv_control = GridSearchCV(\n",
        "    clf_control.fitted, param_grid, scoring=scoring, cv=5, n_jobs=4, refit=\"AUC\", verbose=5\n",
        ")\n",
        "clf_cv_control.fit(clf_control.data_onehot, clf_control.data.converted_yes)"
      ],
      "id": "4457f49f",
      "execution_count": null,
      "outputs": []
    },
    {
      "cell_type": "code",
      "metadata": {},
      "source": [
        "clf_cv_control.best_params_"
      ],
      "id": "96111794",
      "execution_count": null,
      "outputs": []
    },
    {
      "cell_type": "code",
      "metadata": {},
      "source": [
        "clf_control = rsm.model.mlp(\n",
        "    data = {'cg_rct_stacked': cg_rct_stacked.query(\"training == 1 & ad == 0\")},\n",
        "    rvar = 'converted',\n",
        "    lev = 'yes',\n",
        "    evar = evar,\n",
        "    **clf_cv_control.best_params_\n",
        ")\n",
        "clf_control.summary()"
      ],
      "id": "39b95e32",
      "execution_count": null,
      "outputs": []
    },
    {
      "cell_type": "code",
      "metadata": {},
      "source": [
        "cg_rct_stacked[\"pred_treatment_nn\"] = clf_treatment.predict(cg_rct_stacked)[\"prediction\"]\n",
        "cg_rct_stacked[\"pred_control_nn\"] = clf_control.predict(cg_rct_stacked)[\"prediction\"]"
      ],
      "id": "52da3cd2",
      "execution_count": null,
      "outputs": []
    },
    {
      "cell_type": "markdown",
      "metadata": {},
      "source": [
        "#### 3. Calculate the Uplift and Incremental Uplift\n"
      ],
      "id": "f6d7ae59"
    },
    {
      "cell_type": "code",
      "metadata": {},
      "source": [
        "cg_rct_stacked[\"uplift_score_nn\"] = (\n",
        "    cg_rct_stacked.pred_treatment_nn - cg_rct_stacked.pred_control_nn\n",
        ")"
      ],
      "id": "5fa13ffd",
      "execution_count": null,
      "outputs": []
    },
    {
      "cell_type": "code",
      "metadata": {},
      "source": [
        "uplift_tab_nn = rsm.uplift_tab(\n",
        "    cg_rct_stacked.query(\"training == 0\"), \"converted\", \"yes\", \"uplift_score_nn\", \"ad\", 1, qnt = 20\n",
        ")\n",
        "uplift_tab_nn"
      ],
      "id": "1d96e3c0",
      "execution_count": null,
      "outputs": []
    },
    {
      "cell_type": "code",
      "metadata": {},
      "source": [
        "fig = rsm.inc_uplift_plot(\n",
        "    cg_rct_stacked.query(\"training == 0\"), \"converted\", \"yes\", \"uplift_score_nn\", \"ad\", 1, qnt = 20\n",
        ")"
      ],
      "id": "a15ad1ae",
      "execution_count": null,
      "outputs": []
    },
    {
      "cell_type": "markdown",
      "metadata": {},
      "source": [
        "- The curve starts at the origin and increases as more of the population is targeted, reaching a peak before it starts to plateau. This indicates that the campaign has diminishing returns; after a certain point, targeting additional people results in smaller incremental gains.\n"
      ],
      "id": "1be0c5fa"
    },
    {
      "cell_type": "code",
      "metadata": {},
      "source": [
        "fig = rsm.uplift_plot(\n",
        "    cg_rct_stacked.query(\"training == 0\"), \"converted\", \"yes\", \"uplift_score_nn\", \"ad\", 1, qnt = 20\n",
        ")"
      ],
      "id": "bc711063",
      "execution_count": null,
      "outputs": []
    },
    {
      "cell_type": "markdown",
      "metadata": {},
      "source": [
        "This pattern indicates that the first segments are highly responsive to the campaign, while the later segments may have been negatively influenced by the campaign or would have been better off not being targeted at all.\n",
        "\n",
        "#### 4. Using the incremental_resp to calculate the profits for Uplift model\n"
      ],
      "id": "5e330445"
    },
    {
      "cell_type": "code",
      "metadata": {},
      "source": [
        "uplift_profit_nn = prof_calc(uplift_tab_nn, 14.99, 1.5)\n",
        "uplift_profit_nn"
      ],
      "id": "c9f13e6a",
      "execution_count": null,
      "outputs": []
    },
    {
      "cell_type": "markdown",
      "metadata": {},
      "source": [
        "#### 5. Calculate the uplift and Increatmental Uplift for Propensity Model\n"
      ],
      "id": "ef0b0ad3"
    },
    {
      "cell_type": "code",
      "metadata": {},
      "source": [
        "prop_tab_nn = rsm.uplift_tab(\n",
        "    cg_rct_stacked.query(\"training == 0\"), \"converted\", \"yes\", \"pred_treatment_nn\", \"ad\", 1, qnt = 20\n",
        ")\n",
        "prop_tab_nn"
      ],
      "id": "a3ab92d7",
      "execution_count": null,
      "outputs": []
    },
    {
      "cell_type": "markdown",
      "metadata": {},
      "source": [
        "#### Compare Uplift model and Propensity model\n"
      ],
      "id": "5e593f3b"
    },
    {
      "cell_type": "code",
      "metadata": {},
      "source": [
        "fig = rsm.inc_uplift_plot(\n",
        "    cg_rct_stacked.query(\"training == 0\"),\n",
        "    \"converted\",\n",
        "    \"yes\",\n",
        "    [\"pred_treatment_nn\", \"uplift_score_nn\"],\n",
        "    \"ad\",\n",
        "    1, qnt = 20\n",
        ")"
      ],
      "id": "d45cae00",
      "execution_count": null,
      "outputs": []
    },
    {
      "cell_type": "markdown",
      "metadata": {},
      "source": [
        "- The uplift_score_nn line generally lies above the pred_treatment_nn line, indicating that the uplift model predicts a higher incremental uplift across the different segments of the targeted population.\n",
        "\n",
        "- Both lines show a rise in incremental uplift with an increase in the targeted population, reaching a peak, and then beginning to plateau, suggesting a point of diminishing returns.\n",
        "\n",
        "- The uplift model's curve suggests that targeting based on its scores leads to higher incremental gains compared to the propensity model, which is likely predicting the likelihood of response to the treatment without considering the control group's response.\n"
      ],
      "id": "70910117"
    },
    {
      "cell_type": "code",
      "metadata": {},
      "source": [
        "fig = rsm.uplift_plot(\n",
        "    cg_rct_stacked.query(\"training == 0\"),\n",
        "    \"converted\",\n",
        "    \"yes\",\n",
        "    [\"pred_treatment_nn\", \"uplift_score_nn\"],\n",
        "    \"ad\",\n",
        "    1, qnt = 20\n",
        ")"
      ],
      "id": "517b76f7",
      "execution_count": null,
      "outputs": []
    },
    {
      "cell_type": "markdown",
      "metadata": {},
      "source": [
        "- The uplift decreases from the first to the last segment, which suggests that the initial segments are the most responsive to the targeting.\n",
        "The treatment model shows positive uplift in the early segments but drops off more sharply than the uplift model in later segments, indicating that the treatment model might be less effective at distinguishing between those who will respond due to the treatment and those who would have responded anyway.\n",
        "\n",
        "- The uplift model has a more gradual decline in uplift across segments and less negative uplift in the lower segments, which could imply that it is more effective at targeting the right individuals.\n",
        "\n",
        "- The negative values in later segments for both models suggest that certain individuals are either not influenced by or negatively influenced by the treatment. This could represent individuals who might purchase or respond anyway, so the propensity might have been an unnecessary expense for this group, or it could represent a group for whom the treatment had an adverse effect.\n",
        "\n",
        "#### 6. Using the Incremental_resp to calculate the profits for Propensity Model\n"
      ],
      "id": "f762fc70"
    },
    {
      "cell_type": "code",
      "metadata": {},
      "source": [
        "propensity_profit_nn = prof_calc(prop_tab_nn, 14.99, 1.5)\n",
        "propensity_profit_nn"
      ],
      "id": "c99fabb7",
      "execution_count": null,
      "outputs": []
    },
    {
      "cell_type": "code",
      "metadata": {},
      "source": [
        "# Different profit between Uplift model and Propensity model\n",
        "difference_nn = uplift_profit_nn - propensity_profit_nn\n",
        "difference_nn"
      ],
      "id": "5aca6827",
      "execution_count": null,
      "outputs": []
    },
    {
      "cell_type": "markdown",
      "metadata": {},
      "source": [
        "### Using Random Forest Model\n",
        "\n",
        "#### 2. Train an uplift model\n"
      ],
      "id": "2d92f298"
    },
    {
      "cell_type": "code",
      "metadata": {},
      "source": [
        "rf_treatment = rsm.model.rforest(\n",
        "    data = {'cg_rct_stacked': cg_rct_stacked.query(\"training == 1 & ad == 1\")},\n",
        "    rvar = 'converted',\n",
        "    lev = 'yes',\n",
        "    evar = evar,\n",
        ")\n",
        "rf_treatment.summary()\n"
      ],
      "id": "61f76f39",
      "execution_count": null,
      "outputs": []
    },
    {
      "cell_type": "markdown",
      "metadata": {},
      "source": [
        "#### Model Tuning\n"
      ],
      "id": "d02a290b"
    },
    {
      "cell_type": "code",
      "metadata": {},
      "source": [
        "max_features = [None, 'auto', 'sqrt', 'log2', 0.25, 0.5, 0.75, 1.0, 2.0, 3.0, 4.0]\n",
        "n_estimators = [10, 50, 100, 200, 500, 1000]\n",
        "\n",
        "\n",
        "param_grid = {\"max_features\": max_features, \"n_estimators\": n_estimators}\n",
        "scoring = {\"AUC\": \"roc_auc\"}\n",
        "\n",
        "rf_cv_treatment = GridSearchCV(rf_treatment.fitted, param_grid, scoring=scoring, cv=5, n_jobs=4, refit=\"AUC\", verbose=5)"
      ],
      "id": "b0e3dc8d",
      "execution_count": null,
      "outputs": []
    },
    {
      "cell_type": "code",
      "metadata": {},
      "source": [
        "rf_cv_treatment.fit(rf_treatment.data_onehot, rf_treatment.data.converted_yes)"
      ],
      "id": "22d0ba93",
      "execution_count": null,
      "outputs": []
    },
    {
      "cell_type": "code",
      "metadata": {},
      "source": [
        "rf_cv_treatment.best_params_"
      ],
      "id": "031b4106",
      "execution_count": null,
      "outputs": []
    },
    {
      "cell_type": "code",
      "metadata": {},
      "source": [
        "rf_treatment = rsm.model.rforest(\n",
        "    data = {'cg_rct_stacked': cg_rct_stacked.query(\"training == 1 & ad == 1\")},\n",
        "    rvar = 'converted',\n",
        "    lev = 'yes',\n",
        "    evar = evar,\n",
        "    **rf_cv_treatment.best_params_\n",
        ")\n",
        "rf_treatment.summary()"
      ],
      "id": "66a86f0c",
      "execution_count": null,
      "outputs": []
    },
    {
      "cell_type": "code",
      "metadata": {},
      "source": [
        "rf_control = rsm.model.rforest(\n",
        "    data = {'cg_rct_stacked': cg_rct_stacked.query(\"training == 1 & ad == 0\")},\n",
        "    rvar = 'converted',\n",
        "    lev = 'yes',\n",
        "    evar = evar,\n",
        ")\n",
        "rf_control.summary()"
      ],
      "id": "32b41974",
      "execution_count": null,
      "outputs": []
    },
    {
      "cell_type": "markdown",
      "metadata": {},
      "source": [
        "#### Model Tuning\n"
      ],
      "id": "5a6076ee"
    },
    {
      "cell_type": "code",
      "metadata": {},
      "source": [
        "rf_cv_control = GridSearchCV(rf_control.fitted, param_grid, scoring=scoring, cv=5, n_jobs=4, refit=\"AUC\", verbose=5)\n",
        "rf_cv_control.fit(rf_control.data_onehot, rf_control.data.converted_yes)"
      ],
      "id": "b8e443cd",
      "execution_count": null,
      "outputs": []
    },
    {
      "cell_type": "code",
      "metadata": {},
      "source": [
        "rf_cv_control.best_params_"
      ],
      "id": "be64e848",
      "execution_count": null,
      "outputs": []
    },
    {
      "cell_type": "code",
      "metadata": {},
      "source": [
        "rf_control = rsm.model.rforest(\n",
        "    data = {'cg_rct_stacked': cg_rct_stacked.query(\"training == 1 & ad == 0\")},\n",
        "    rvar = 'converted',\n",
        "    lev = 'yes',\n",
        "    evar = evar,\n",
        "    **rf_cv_control.best_params_\n",
        ")\n",
        "rf_control.summary()"
      ],
      "id": "aad94711",
      "execution_count": null,
      "outputs": []
    },
    {
      "cell_type": "code",
      "metadata": {},
      "source": [
        "# Predictions\n",
        "cg_rct_stacked[\"pred_treatment_rf\"] = rf_treatment.predict(cg_rct_stacked)[\"prediction\"]\n",
        "cg_rct_stacked[\"pred_control_rf\"] = rf_control.predict(cg_rct_stacked)[\"prediction\"]"
      ],
      "id": "7bb510a9",
      "execution_count": null,
      "outputs": []
    },
    {
      "cell_type": "code",
      "metadata": {},
      "source": [
        "cg_rct_stacked[\"uplift_score_rf\"] = (\n",
        "    cg_rct_stacked.pred_treatment_rf - cg_rct_stacked.pred_control_rf\n",
        ")"
      ],
      "id": "199a7c88",
      "execution_count": null,
      "outputs": []
    },
    {
      "cell_type": "markdown",
      "metadata": {},
      "source": [
        "#### 3. Calculate the Uplift and Incremental Uplift\n"
      ],
      "id": "65cd4605"
    },
    {
      "cell_type": "code",
      "metadata": {},
      "source": [
        "uplift_tab_rf = rsm.uplift_tab(\n",
        "    cg_rct_stacked.query(\"training == 0\"), \"converted\", \"yes\", \"uplift_score_rf\", \"ad\", 1, qnt = 20\n",
        ")\n",
        "uplift_tab_rf"
      ],
      "id": "519b12ac",
      "execution_count": null,
      "outputs": []
    },
    {
      "cell_type": "code",
      "metadata": {},
      "source": [
        "fig = rsm.inc_uplift_plot(\n",
        "    cg_rct_stacked.query(\"training == 0\"), \"converted\", \"yes\", \"uplift_score_rf\", \"ad\", 1, qnt = 20\n",
        ")"
      ],
      "id": "84afc67e",
      "execution_count": null,
      "outputs": []
    },
    {
      "cell_type": "markdown",
      "metadata": {},
      "source": [
        "- The curve starts at 0% uplift when 0% of the population is targeted, which is expected as no one has yet been exposed to the campaign.\n",
        "\n",
        "- As the percentage of the targeted population increases, the incremental uplift also increases. This indicates that targeting more of the population is initially resulting in a higher incremental gain.\n",
        "\n",
        "- The curve shows a steep initial growth in uplift as the targeting begins, suggesting that the early segments of the population targeted are highly responsive to the campaign.\n",
        "\n",
        "- After a certain point, the rate of increase in incremental uplift starts to diminish. This is seen as the curve begins to flatten, suggesting that the additional gains from targeting more of the population are decreasing.\n",
        "\n",
        "- The curve reaches a peak and then plateaus, indicating that there is an optimal point of targeting beyond which the incremental benefits do not increase significantly. This is typically where the marketer would aim to stop targeting additional customers to maximize efficiency and return on investment.\n"
      ],
      "id": "af80cfef"
    },
    {
      "cell_type": "code",
      "metadata": {},
      "source": [
        "fig = rsm.uplift_plot(\n",
        "    cg_rct_stacked.query(\"training == 0\"), \"converted\", \"yes\", \"uplift_score_rf\", \"ad\", 1, qnt = 20\n",
        ")"
      ],
      "id": "c4f18e56",
      "execution_count": null,
      "outputs": []
    },
    {
      "cell_type": "markdown",
      "metadata": {},
      "source": [
        "- The first few bars show a positive uplift, with the first bar indicating an uplift of approximately 30%. This suggests that the first segment of the population (likely the top 5% or 10%) responded very well to the intervention.\n",
        "\n",
        "- As moving right along the x-axis, the uplift decreases. This is expected as typically, the individuals most likely to respond are targeted first, and as moving through the population, the less responsive individuals are included.\n",
        "\n",
        "- Eventually, the uplift drops to 0% and then becomes negative. The negative bars at the end suggest that targeting those segments of the population may have been counterproductive, either because the intervention had an adverse effect or because it was an unnecessary expense for those individuals who might have taken the desired action without any intervention.\n",
        "\n",
        "- The most negative bar, located towards the right end of the chart, indicates a significant negative impact on that segment. This might represent a group that was either deterred by the campaign or where the cost of targeting outweighed the benefits.\n",
        "\n",
        "#### 4. Using the incremental_resp to calculate the profits for Uplift model\n"
      ],
      "id": "319e9571"
    },
    {
      "cell_type": "code",
      "metadata": {},
      "source": [
        "uplift_profit_rf = prof_calc(uplift_tab_rf, 14.99, 1.5)\n",
        "uplift_profit_rf"
      ],
      "id": "41341586",
      "execution_count": null,
      "outputs": []
    },
    {
      "cell_type": "markdown",
      "metadata": {},
      "source": [
        "#### 5. Calculate the uplift and Increatmental Uplift for Propensity Model\n"
      ],
      "id": "42fabaea"
    },
    {
      "cell_type": "code",
      "metadata": {},
      "source": [
        "prop_tab_rf = rsm.uplift_tab(\n",
        "    cg_rct_stacked.query(\"training == 0\"), \"converted\", \"yes\", \"pred_treatment_rf\", \"ad\", 1, qnt = 20\n",
        ")"
      ],
      "id": "0c12c2b1",
      "execution_count": null,
      "outputs": []
    },
    {
      "cell_type": "markdown",
      "metadata": {},
      "source": [
        "#### Compare Uplift model and Propensity model\n"
      ],
      "id": "cba622f5"
    },
    {
      "cell_type": "code",
      "metadata": {},
      "source": [
        "fig = rsm.inc_uplift_plot(\n",
        "    cg_rct_stacked.query(\"training == 0\"),\n",
        "    \"converted\",\n",
        "    \"yes\",\n",
        "    [\"pred_treatment_rf\", \"uplift_score_rf\"],\n",
        "    \"ad\",\n",
        "    1, qnt = 20\n",
        ")"
      ],
      "id": "2f82181e",
      "execution_count": null,
      "outputs": []
    },
    {
      "cell_type": "markdown",
      "metadata": {},
      "source": [
        "- Uplift Model: The line representing uplift_score_rf is consistently above the pred_treatment_rf line, suggesting that the uplift model identifies individuals who will respond to the treatment more effectively than the propensity model alone. This indicates that using the uplift model, the campaign would yield a higher incremental gain across the targeted population segments.\n",
        "\n",
        "- Propensity Model: The pred_treatment_rf line shows that the propensity model does predict some level of uplift, but it is lower compared to the uplift model. This implies that while the propensity model identifies individuals likely to respond to the treatment, it does not do so as effectively as the uplift model when it comes to maximizing incremental uplift.\n",
        "\n",
        "- Diminishing Returns: Both models show an increase in incremental uplift as a larger percentage of the population is targeted, but the rate of increase slows down, and both lines begin to plateau. This indicates diminishing returns; beyond a certain point, targeting additional segments of the population yields progressively smaller increases in uplift.\n",
        "\n",
        "- Optimal Targeting Point: The point at which the curves start to plateau suggests the optimal targeting point for the campaign. Beyond this point, the additional cost of targeting more individuals may not be justified by the incremental gains.\n"
      ],
      "id": "5bcca005"
    },
    {
      "cell_type": "code",
      "metadata": {},
      "source": [
        "fig = rsm.uplift_plot(\n",
        "    cg_rct_stacked.query(\"training == 0\"),\n",
        "    \"converted\",\n",
        "    \"yes\",\n",
        "    [\"pred_treatment_rf\", \"uplift_score_rf\"],\n",
        "    \"ad\",\n",
        "    1, qnt = 20\n",
        ")"
      ],
      "id": "b9025a33",
      "execution_count": null,
      "outputs": []
    },
    {
      "cell_type": "markdown",
      "metadata": {},
      "source": [
        "- Initial Segments: The first few segments, representing the most responsive parts of the population, show a significant positive uplift for both models. This suggests that both models are effective at identifying the individuals most likely to be influenced by the campaign.\n",
        "\n",
        "- Decreasing Uplift: As moving to the right, representing a larger share of the population being targeted, the uplift for both models decreases. This is typical in targeted marketing as the most responsive individuals are usually the first ones targeted.\n",
        "\n",
        "- Negative Uplift: Towards the end segments, both models show negative uplift, which can indicate that targeting these individuals may have a counterproductive effect. It could mean that the campaign is reaching individuals who either would have made a purchase without the campaign or who may be turned off by the campaign.\n",
        "\n",
        "- Comparison Between Models: In most segments, the uplift_score_rf bars are higher than the pred_treatment_rf bars, suggesting that the uplift model is more effective at identifying which segments of the population will provide a higher incremental uplift when targeted.\n",
        "\n",
        "#### 6. Using the Incremental_resp to calculate the profits for Propensity Model\n"
      ],
      "id": "52a44101"
    },
    {
      "cell_type": "code",
      "metadata": {},
      "source": [
        "propensity_profit_rf = prof_calc(prop_tab_rf, 14.99, 1.5)\n",
        "propensity_profit_rf"
      ],
      "id": "2ef9c25b",
      "execution_count": null,
      "outputs": []
    },
    {
      "cell_type": "code",
      "metadata": {},
      "source": [
        "# Difference in profits from using uplift model and propensity model\n",
        "difference_rf = uplift_profit_rf - propensity_profit_rf\n",
        "difference_rf"
      ],
      "id": "9a366dee",
      "execution_count": null,
      "outputs": []
    },
    {
      "cell_type": "markdown",
      "metadata": {},
      "source": [
        "#### Using XGBoost Model\n"
      ],
      "id": "28c963e9"
    },
    {
      "cell_type": "code",
      "metadata": {},
      "source": [
        "import xgboost as xgb\n",
        "# Create X_train, X_test, y_train, y_test for treatment group\n",
        "X_train_treatment = cg_rct_stacked.loc[(cg_rct_stacked[\"training\"] == 1) & (cg_rct_stacked[\"ad\"] == 1), evar]\n",
        "y_train_treatment = cg_rct_stacked.query(\"training == 1 & ad == 1\").converted_yes\n",
        "\n",
        "X_test_treatment = cg_rct_stacked.loc[(cg_rct_stacked[\"training\"] == 0) & (cg_rct_stacked[\"ad\"] == 1), evar]\n",
        "y_test_treatment = cg_rct_stacked.query(\"training == 0 & ad == 1\").converted_yes"
      ],
      "id": "586baf1f",
      "execution_count": null,
      "outputs": []
    },
    {
      "cell_type": "code",
      "metadata": {},
      "source": [
        "# Setup model\n",
        "xgbc_treatment = xgb.XGBClassifier(use_label_encoder=False, eval_metric=\"logloss\", enable_categorical=True)\n",
        "xgbc_treatment.fit(X_train_treatment, y_train_treatment)\n",
        "\n",
        "# Set up and fit GridSearchCV\n",
        "param_grid = {\n",
        "    'learning_rate': [0.01, 0.05, 0.1, 0.2],\n",
        "    'max_depth': [3, 4, 5, 6, 7, 8, 9, 10],\n",
        "    'min_child_weight': [1, 2, 3, 4, 5, 6]\n",
        "}\n",
        "\n",
        "xgbc_cv_treatment = GridSearchCV(xgbc_treatment, param_grid, scoring='roc_auc', cv=5, n_jobs=4, verbose=5)\n",
        "xgbc_cv_treatment.fit(X_train_treatment, y_train_treatment)\n",
        "\n",
        "# Retrieve the best parameters and retrain the model\n",
        "best_params_treatment = xgbc_cv_treatment.best_params_\n",
        "xgbc_treatment = xgb.XGBClassifier(**best_params_treatment, use_label_encoder=False, eval_metric=\"logloss\", enable_categorical=True)\n",
        "xgbc_treatment.fit(X_train_treatment, y_train_treatment)"
      ],
      "id": "593a3784",
      "execution_count": null,
      "outputs": []
    },
    {
      "cell_type": "markdown",
      "metadata": {},
      "source": [
        "#### For control group\n"
      ],
      "id": "2a0d63c2"
    },
    {
      "cell_type": "code",
      "metadata": {},
      "source": [
        "# Create X_train, X_test, y_train, y_test for control group\n",
        "X_train_control = cg_rct_stacked.loc[(cg_rct_stacked[\"training\"] == 1) & (cg_rct_stacked[\"ad\"] == 0), evar]\n",
        "y_train_control = cg_rct_stacked.query(\"training == 1 & ad == 0\").converted_yes\n",
        "\n",
        "X_test_control = cg_rct_stacked.loc[(cg_rct_stacked[\"training\"] == 0) & (cg_rct_stacked[\"ad\"] == 0), evar]\n",
        "y_test_control = cg_rct_stacked.query(\"training == 0 & ad == 0\").converted_yes"
      ],
      "id": "86d3036f",
      "execution_count": null,
      "outputs": []
    },
    {
      "cell_type": "code",
      "metadata": {},
      "source": [
        "# Use the same param_grid as the treatment group\n",
        "xgbc_control = xgb.XGBClassifier(use_label_encoder=False, eval_metric=\"logloss\", enable_categorical=True)\n",
        "\n",
        "# Set up and fit GridSearchCV\n",
        "xgbc_cv_control = GridSearchCV(xgbc_control, param_grid, scoring='roc_auc', cv=5, n_jobs=4, verbose=5)\n",
        "xgbc_cv_control.fit(X_train_control, y_train_control)\n",
        "\n",
        "# Retrieve the best parameters and retrain the model\n",
        "best_params_control = xgbc_cv_control.best_params_\n",
        "xgbc_control = xgb.XGBClassifier(**best_params_control, use_label_encoder=False, eval_metric=\"logloss\", enable_categorical=True)\n",
        "xgbc_control.fit(X_train_control, y_train_control)"
      ],
      "id": "73f873fe",
      "execution_count": null,
      "outputs": []
    },
    {
      "cell_type": "code",
      "metadata": {},
      "source": [
        "X_full = cg_rct_stacked[evar]\n",
        "cg_rct_stacked[\"pred_treatment_xgb\"] = xgbc_treatment.predict_proba(X_full)[:, 1]\n",
        "cg_rct_stacked[\"pred_control_xgb\"] = xgbc_control.predict_proba(X_full)[:, 1]"
      ],
      "id": "0a640a06",
      "execution_count": null,
      "outputs": []
    },
    {
      "cell_type": "markdown",
      "metadata": {},
      "source": [
        "#### 3. Calculate the Uplift and Incremental Uplift\n"
      ],
      "id": "5f547f0b"
    },
    {
      "cell_type": "code",
      "metadata": {},
      "source": [
        "cg_rct_stacked[\"uplift_score_xgb\"] = (\n",
        "    cg_rct_stacked.pred_treatment_xgb - cg_rct_stacked.pred_control_xgb\n",
        ")\n",
        "cg_rct_stacked['uplift_score_xgb']"
      ],
      "id": "d3a09195",
      "execution_count": null,
      "outputs": []
    },
    {
      "cell_type": "code",
      "metadata": {},
      "source": [
        "cg_rct_stacked['uplift_score_xgb'].describe()"
      ],
      "id": "44cefbbc",
      "execution_count": null,
      "outputs": []
    },
    {
      "cell_type": "code",
      "metadata": {},
      "source": [
        "uplift_tab_xgb = rsm.uplift_tab(\n",
        "    cg_rct_stacked.query(\"training == 0\"), \"converted\", \"yes\", \"uplift_score_xgb\", \"ad\", 1, qnt = 20\n",
        ")\n",
        "uplift_tab_xgb"
      ],
      "id": "0ab7580b",
      "execution_count": null,
      "outputs": []
    },
    {
      "cell_type": "code",
      "metadata": {},
      "source": [
        "fig = rsm.inc_uplift_plot(\n",
        "    cg_rct_stacked.query(\"training == 0\"), \"converted\", \"yes\", \"uplift_score_xgb\", \"ad\", 1, qnt = 20\n",
        ")"
      ],
      "id": "73c15341",
      "execution_count": null,
      "outputs": []
    },
    {
      "cell_type": "code",
      "metadata": {},
      "source": [
        "fig = rsm.uplift_plot(\n",
        "    cg_rct_stacked.query(\"training == 0\"), \"converted\", \"yes\", \"uplift_score_xgb\", \"ad\", 1, qnt = 20\n",
        ")"
      ],
      "id": "6d858b6d",
      "execution_count": null,
      "outputs": []
    },
    {
      "cell_type": "markdown",
      "metadata": {},
      "source": [
        "#### 4. Use the incremental_resp to calculate the profits\n"
      ],
      "id": "7bd4772a"
    },
    {
      "cell_type": "code",
      "metadata": {},
      "source": [
        "uplift_profit_xgb = prof_calc(uplift_tab_xgb, 14.99, 1.5)\n",
        "uplift_profit_xgb"
      ],
      "id": "6d20d905",
      "execution_count": null,
      "outputs": []
    },
    {
      "cell_type": "markdown",
      "metadata": {},
      "source": [
        "#### 5. Calculate the uplift and Increatmental Uplift for Propensity Model\n"
      ],
      "id": "62afde15"
    },
    {
      "cell_type": "code",
      "metadata": {},
      "source": [
        "propensity_tab_xgb = rsm.uplift_tab(\n",
        "    cg_rct_stacked.query(\"training == 0\"), \"converted\", \"yes\", \"pred_treatment_xgb\", \"ad\", 1, qnt = 20)\n",
        "propensity_tab_xgb"
      ],
      "id": "a2f0ee3a",
      "execution_count": null,
      "outputs": []
    },
    {
      "cell_type": "code",
      "metadata": {},
      "source": [
        "fig = rsm.inc_uplift_plot(\n",
        "    cg_rct_stacked.query(\"training == 0\"), \"converted\", \"yes\", \"pred_treatment_xgb\", \"ad\", 1, qnt = 20)"
      ],
      "id": "efe99d7e",
      "execution_count": null,
      "outputs": []
    },
    {
      "cell_type": "markdown",
      "metadata": {},
      "source": [
        "- The curve starts at 0% uplift when 0% of the population is targeted, which makes sense as no one has yet been exposed to the campaign.\n",
        "\n",
        "- As the percentage of the targeted population increases, the incremental uplift also increases. This indicates that targeting more of the population is initially resulting in higher incremental gains.\n",
        "\n",
        "- The curve shows a steep rise in incremental uplift at the beginning, suggesting that the early segments of the population targeted are highly responsive to the campaign.\n",
        "\n",
        "- The rate of increase in incremental uplift begins to slow down as the curve extends towards the right, which suggests diminishing returns; the incremental gains from targeting additional portions of the population decrease.\n",
        "\n",
        "- The curve eventually starts to plateau, indicating that there is a point at which the incremental benefits do not significantly increase with additional targeting. This plateau represents the point of maximum efficiency in targeting efforts.\n",
        "\n",
        "The graph is indicative of a typical response to a well-targeted marketing campaign, where the most responsive individuals are targeted first, leading to higher uplifts early on. As less responsive individuals are targeted, the incremental uplift decreases\n"
      ],
      "id": "e2fb0a9e"
    },
    {
      "cell_type": "code",
      "metadata": {},
      "source": [
        "fig = rsm.uplift_plot(\n",
        "    cg_rct_stacked.query(\"training == 0\"), \n",
        "    \"converted\", \"yes\", \"pred_treatment_xgb\", \"ad\", 1, qnt = 20)"
      ],
      "id": "c77fed70",
      "execution_count": null,
      "outputs": []
    },
    {
      "cell_type": "markdown",
      "metadata": {},
      "source": [
        "- High Responsiveness in Early Segments: The first few bars are the tallest, indicating the highest uplift. This suggests that the first segment of the population (likely the top 5% or 10%) is the most responsive to the campaign.\n",
        "\n",
        "- Diminishing Returns: As we move right across the x-axis to include larger percentages of the population, the size of the uplift decreases. This pattern is typical in targeted marketing, where you see the greatest response rate increases in the first few population segments.\n",
        "\n",
        "- Consistent Drop: The consistent drop-off in uplift as the population segments progress suggests that the most responsive individuals are targeted first, followed by progressively less responsive segments.\n",
        "\n",
        "- Positive Uplift Across Segments: All the bars are above the 0% line, which indicates that each segment experienced a positive uplift due to the campaign. This means that even the least responsive segments targeted still had a positive response, although it was not as strong as the initial segments.\n",
        "\n",
        "#### Compare Uplift model and Propensity model\n"
      ],
      "id": "4a8b64f9"
    },
    {
      "cell_type": "code",
      "metadata": {},
      "source": [
        "fig = rsm.inc_uplift_plot(\n",
        "    cg_rct_stacked.query(\"training == 0\"),\n",
        "    \"converted\",\n",
        "    \"yes\",\n",
        "    [\"pred_treatment_xgb\", \"uplift_score_xgb\"],\n",
        "    \"ad\",\n",
        "    1, qnt = 20\n",
        ")"
      ],
      "id": "a89dcfa9",
      "execution_count": null,
      "outputs": []
    },
    {
      "cell_type": "markdown",
      "metadata": {},
      "source": [
        "- Uplift Model Performance: The uplift_score_xgb curve is consistently above the pred_treatment_xgb curve. This indicates that the uplift model is predicting a higher incremental uplift across the different segments of the targeted population compared to the treatment model.\n",
        "\n",
        "- Propensity Model: The pred_treatment_xgb curve shows that the propensity model also predicts an increase in incremental uplift with more of the population targeted. However, the uplift is not as high as the one predicted by the uplift model, suggesting that the propensity model might be useful, but not optimal.\n",
        "\n",
        "- Diminishing Returns: Both models show an initial rapid increase in incremental uplift, which slows and eventually plateaus as the percentage of the population targeted increases. This is indicative of diminishing returns; beyond a certain point, targeting additional people results in smaller increases in incremental uplift.\n",
        "\n",
        "- Optimal Targeting Point: The curves suggest that there is an optimal point for targeting, after which the incremental benefits of targeting additional individuals begin to decrease. Identifying this point can help optimize marketing efforts and budget allocation.\n",
        "\n",
        "In short, the uplift_score_xgb model appears to be more effective for targeting the right individuals, likely because it accounts for the incremental effect of the treatment, identifying those who are influenced by the campaign as opposed to those who would respond without it.\n"
      ],
      "id": "af0c8c64"
    },
    {
      "cell_type": "code",
      "metadata": {},
      "source": [
        "fig = rsm.uplift_plot(\n",
        "    cg_rct_stacked.query(\"training == 0\"),\n",
        "    \"converted\",\n",
        "    \"yes\",\n",
        "    [\"pred_treatment_xgb\", \"uplift_score_xgb\"],\n",
        "    \"ad\",\n",
        "    1, qnt = 20\n",
        ")"
      ],
      "id": "fb16d41e",
      "execution_count": null,
      "outputs": []
    },
    {
      "cell_type": "markdown",
      "metadata": {},
      "source": [
        "- High Responsiveness in Early Segments: The initial segments show a higher uplift for both models. This indicates that these segments of the population are more responsive to the marketing campaign.\n",
        "\n",
        "- Decreasing Uplift: As the segments progress from left to right (targeting a larger share of the population), the uplift decreases. This trend is typical in targeted marketing, where the most responsive individuals are usually targeted first.\n",
        "\n",
        "- Negative Uplift in Later Segments: For the segments on the right, the uplift becomes negative. This could mean that targeting these individuals might be counterproductive, potentially leading to a negative reaction to the marketing campaign or an unnecessary cost for individuals who would have made a purchase without any intervention.\n",
        "\n",
        "- Comparison Between Models: In most segments, the uplift_score_xgb bars appear to have a higher uplift than the pred_treatment_xgb bars, suggesting that the uplift model is more effective at identifying which segments of the population will provide a higher incremental uplift when targeted.\n",
        "\n",
        "#### 6. Use the incremental_resp to calculate the profits for Propensity Model\n"
      ],
      "id": "5deb6810"
    },
    {
      "cell_type": "code",
      "metadata": {},
      "source": [
        "propensity_profit_xgb = prof_calc(propensity_tab_xgb, 14.99, 1.5)\n",
        "propensity_profit_xgb"
      ],
      "id": "191ae439",
      "execution_count": null,
      "outputs": []
    },
    {
      "cell_type": "code",
      "metadata": {},
      "source": [
        "# Difference in profits from using uplift model and propensity model\n",
        "difference_xgb = uplift_profit_xgb - propensity_profit_xgb\n",
        "difference_xgb"
      ],
      "id": "9b943d4d",
      "execution_count": null,
      "outputs": []
    },
    {
      "cell_type": "markdown",
      "metadata": {},
      "source": [
        "#### Results\n"
      ],
      "id": "bc13bf37"
    },
    {
      "cell_type": "code",
      "metadata": {},
      "source": [
        "mod_perf = pd.DataFrame({\n",
        "    \"model\": [\"Logistic\", \"Neural Network\", \"Random Forest\", \"XGBoost\"],\n",
        "    \"incremental_profit_uplift\": [uplift_profit_logit, uplift_profit_nn, uplift_profit_rf, uplift_profit_xgb],\n",
        "    \"incremental_profit_propensity\": [propensity_profit_logit, propensity_profit_nn, propensity_profit_rf, propensity_profit_xgb],\n",
        "    \"difference\": [difference_logit, difference_nn, difference_rf, difference_xgb]\n",
        "})\n",
        "mod_perf.sort_values(\"difference\", ascending=False)"
      ],
      "id": "75777a28",
      "execution_count": null,
      "outputs": []
    },
    {
      "cell_type": "code",
      "metadata": {},
      "source": [
        "incremental_profit_dct = {\n",
        "    \"Logistic\": uplift_profit_logit,\n",
        "    \"Neural Network\": uplift_profit_nn,\n",
        "    \"Random Forest\": uplift_profit_rf,\n",
        "    \"XGBoost\": uplift_profit_xgb\n",
        "}\n",
        "\n",
        "\n",
        "import seaborn as sns\n",
        "import matplotlib.pyplot as plt\n",
        "\n",
        "# Convert dictionary to DataFrame\n",
        "df = pd.DataFrame(list(incremental_profit_dct.items()), columns=['Model', 'IncrementalProfit'])\n",
        "plt.figure(figsize=(12, 5))  # Adjust the width and height to your preference\n",
        "# Plot\n",
        "sns.set(style=\"white\")\n",
        "ax = sns.barplot(x=\"Model\", y=\"IncrementalProfit\", data=df, palette=\"magma\")\n",
        "\n",
        "# Annotations\n",
        "for index, row in df.iterrows():\n",
        "    ax.text(index, row.IncrementalProfit, f'${row.IncrementalProfit:.2f}', ha='center')\n",
        "\n",
        "# Set labels and title\n",
        "ax.set_xlabel(\"Model Type\", fontdict={'family': 'serif', 'color': 'black', 'size': 12})\n",
        "ax.set_ylabel(\"Incremental Profit\", fontdict={'family': 'serif', 'color': 'black', 'size': 12})\n",
        "ax.set_title(\"Incremental Profit by Model\", fontdict={'family': 'serif', 'color': 'black', 'size': 15})\n",
        "\n",
        "plt.xticks(rotation=45)  # Rotate x labels for better readability\n",
        "plt.show()"
      ],
      "id": "5344e558",
      "execution_count": null,
      "outputs": []
    },
    {
      "cell_type": "code",
      "metadata": {},
      "source": [
        "difference_dct = {\n",
        "    \"Logistic\": difference_logit,\n",
        "    \"Neural Network\": difference_nn,\n",
        "    \"Random Forest\": difference_rf,\n",
        "    \"XGBoost\": difference_xgb\n",
        "}\n",
        "\n",
        "# Convert dictionary to DataFrame\n",
        "df = pd.DataFrame(list(difference_dct.items()), columns=['Model', 'IncrementalProfit'])\n",
        "plt.figure(figsize=(12, 5))  # Adjust the width and height to your preference\n",
        "# Plot\n",
        "sns.set(style=\"white\")\n",
        "ax = sns.barplot(x=\"Model\", y=\"IncrementalProfit\", data=df, palette=\"magma\")\n",
        "\n",
        "# Annotations\n",
        "for index, row in df.iterrows():\n",
        "    ax.text(index, row.IncrementalProfit, f'${row.IncrementalProfit:.2f}', ha='center')\n",
        "\n",
        "# Set labels and title\n",
        "ax.set_xlabel(\"Model Type\", fontdict={'family': 'serif', 'color': 'black', 'size': 12})\n",
        "ax.set_ylabel(\"Incremental Profit\", fontdict={'family': 'serif', 'color': 'black', 'size': 12})\n",
        "ax.set_title(\"Difference by Model\", fontdict={'family': 'serif', 'color': 'black', 'size': 15})\n",
        "\n",
        "plt.xticks(rotation=45)  # Rotate x labels for better readability\n",
        "plt.show()"
      ],
      "id": "8278e6a2",
      "execution_count": null,
      "outputs": []
    },
    {
      "cell_type": "markdown",
      "metadata": {},
      "source": [
        "### Part II\n",
        "\n",
        "#### 1. What formula would you use to select customers to target using a propensity model if your goal is to maximize expected profits?\n",
        "\n",
        "To select customers to target using a propensity to buy model with the goal of maximizing our expected profits, we want to use a formula that incorporates both the propensity to buy and the expected profit from each customer if they do purchase. This approach allows the prioritization of customers not just based on their likelihood to buy, but also on the value they bring. The propensity model is a more general approach that can be used to predict the likelihood of a customer to purchase a product or service. The formula to select customers to target using a propensity model if the goal is to maximize expected profits is as follows:\n",
        "\n",
        "$$\n",
        "\\text{Customers to target} = (\\text{price}* {pred_i} - \\text{cost}) > 0\n",
        "$$\n"
      ],
      "id": "99ab3081"
    },
    {
      "cell_type": "code",
      "metadata": {},
      "source": [
        "price = 14.99\n",
        "cost = 1.50"
      ],
      "id": "97b3cfc9",
      "execution_count": null,
      "outputs": []
    },
    {
      "cell_type": "code",
      "metadata": {},
      "source": [
        "def round_to_nearest_5(x):\n",
        "    return round(x*20) / 20"
      ],
      "id": "55d3617e",
      "execution_count": null,
      "outputs": []
    },
    {
      "cell_type": "code",
      "metadata": {},
      "source": [
        "# Run the function accross all models and predictions\n",
        "models = ['logit', 'nn', 'rf', 'xgb']\n",
        "predictions = ['pred_treatment', 'pred_treatment_nn', 'pred_treatment_rf', 'pred_treatment_xgb']\n",
        "\n",
        "# Define optimization function for profit\n",
        "def propensity_prof_opt(data, price = 14.99, cost = 1.5):\n",
        "    total_customers = 120000\n",
        "    result = []\n",
        "    for model, prediction in zip(models, predictions):\n",
        "        data['EP'] = data[prediction] * price - cost\n",
        "        data['ads_logit'] = data['EP'] > 0\n",
        "        perc = np.nanmean(data['ads_logit'])\n",
        "        target_customers = perc * total_customers\n",
        "        rounded_perc = round_to_nearest_5(perc)\n",
        "        result.append([model, perc, rounded_perc, target_customers])\n",
        "    return pd.DataFrame(result, columns = ['model','perc_customer', 'rounded_perc', 'target_customers']).sort_values('perc_customer', ascending = False)\n",
        "\n",
        "propensity_prof_opt = propensity_prof_opt(cg_rct_stacked.query(\"training == 1 & ad == 1\"))\n",
        "propensity_prof_opt"
      ],
      "id": "d9d02f8f",
      "execution_count": null,
      "outputs": []
    },
    {
      "cell_type": "markdown",
      "metadata": {},
      "source": [
        "Therefore, we want to target customers using logit propensity model for each tuned model to maximize the expected profits.\n",
        "\n",
        "- Logistic Regression Model: 57,422 customers\n",
        "\n",
        "- Neural Network Model: 54,005 customers\n",
        "\n",
        "- Random Forest Model: 27222 customers\n",
        "\n",
        "- XGBoost Model: 58,268 customers\n",
        "\n",
        "#### Uplift Expected Profit\n",
        "\n",
        "If we wanted to target customers using an uplift model, we will select customers with the highest predicted uplift scores, where uplift is the incremental impact of the treatment (e.g., receiving an ad) on the customer's probability of making a purchase.\n",
        "\n",
        "<br> \n",
        "The expected incremental profit can be calculated by multiplying the uplift score by the profit per conversion minus the cost of targeting the client. The formula is listed below:\n",
        "\n",
        "$$\n",
        "\\text{Customers to target} = ({\\text{Uplift Score} * \\text{profit per conversion}) - \\text{Cost per conversion}}\n",
        "$$\n",
        "\n",
        "The uplift score is calculated by subtracting the probability of the customer to purchase without the treatment from the probability of the customer to purchase with the treatment.\n",
        "\n",
        "$$\n",
        "\\text{Uplift Score} = \\text{P(Outcome|Treatment)} - \\text{P(Outcome|Control)}\n",
        "$$\n"
      ],
      "id": "cca40dc1"
    },
    {
      "cell_type": "code",
      "metadata": {},
      "source": [
        "# Optimizing the uplift model profit\n",
        "# Run the function accross all models and uplift scores\n",
        "models = ['logit', 'nn', 'rf', 'xgb']\n",
        "uplift_scores = ['uplift_score', 'uplift_score_nn', 'uplift_score_rf', 'uplift_score_xgb']\n",
        "\n",
        "# Define optimization function for profit\n",
        "def uplift_prof_opt(data, price = 14.99, cost = 1.5):\n",
        "    total_customers = 120000\n",
        "    result = []\n",
        "    for model, uplift_score in zip(models,uplift_scores):\n",
        "        data['EIP'] = (data[uplift_score] * price) - cost\n",
        "        data['ads_logit'] = data['EIP'] > 0\n",
        "        perc = np.nanmean(data['ads_logit'])\n",
        "        target_customers = perc * total_customers\n",
        "        rounded_perc = round_to_nearest_5(perc)\n",
        "        result.append([model, perc, rounded_perc, target_customers])\n",
        "    return pd.DataFrame(result, columns = ['model','perc_customer', 'rounded_perc', 'target_customers']).sort_values('perc_customer', ascending = False)\n",
        "\n",
        "uplift_prof_opt = uplift_prof_opt(cg_rct_stacked.query(\"training == 1 & ad == 1\"))\n",
        "uplift_prof_opt"
      ],
      "id": "199bcf08",
      "execution_count": null,
      "outputs": []
    },
    {
      "cell_type": "markdown",
      "metadata": {},
      "source": [
        "Therefore, we want to target customers using uplift model for each tuned model to maximize the expected profits.\n",
        "\n",
        "- Logistic Regression Model: 26,628 customers\n",
        "\n",
        "- Neural Network Model: 36,068 customers\n",
        "\n",
        "- Random Forest Model: 16,982 customers\n",
        "\n",
        "- XGBoost Model: 33,965 customers\n",
        "\n",
        "### Logistic Model\n",
        "\n",
        "#### 3. Uplift and Propensity Expected Profit\n",
        "In questions 1 and 2, we calculated the optimal target of customers. for the propensity and uplift models. When we round to the nearest 5%, we will then use these percentages to calculate the number of customers to target out of the 120K customer base as well as calculate the expected incremental profits.\n",
        "\n",
        "To calculate the incremental profits we will follow the general steps of: \n",
        "1. Determining the incremental response. As we can see, the `incremental_resp` column shows the additional responses attributed to the treatment of the ad for each bin of customers. \n",
        "2. We will then want to calculate the incremental profits for each bin. To do this, you will multiply the incremental response by the average profit per response, and we will assume an average profit per response value if not provided.\n",
        "3. Finally, we will sum the incremental profits across all the bins to get the total incremental profit.\n"
      ],
      "id": "89e597b4"
    },
    {
      "cell_type": "code",
      "metadata": {},
      "source": [
        "# Define the function to calculate the profit\n",
        "def prof_calc_opt(data, total_customers, percent_target, price = 14.99, cost = 1.5):\n",
        "    # Given variables\n",
        "    target_customers = total_customers * percent_target\n",
        "    target_prop = percent_target\n",
        "    # Calculate the scale factor\n",
        "    scale_factor = 120000 / 9000\n",
        "\n",
        "    # Calculate the expected incremental customers and profits\n",
        "    target_row = data[data['cum_prop'] <= target_prop].iloc[-1]  # Ensure data is sorted if necessary\n",
        "    profit = (price * target_row['incremental_resp'] - cost * target_row['T_n']) * scale_factor\n",
        "    return profit"
      ],
      "id": "d329dca1",
      "execution_count": null,
      "outputs": []
    },
    {
      "cell_type": "code",
      "metadata": {},
      "source": [
        "# Propensity Model\n",
        "propensity_profits_logit = prof_calc_opt(propensity_tab, 120000, 0.5, 14.99, 1.5)\n",
        "propensity_profits_logit"
      ],
      "id": "b747b852",
      "execution_count": null,
      "outputs": []
    },
    {
      "cell_type": "code",
      "metadata": {},
      "source": [
        "# Uplift Model\n",
        "uplift_profits_logit = prof_calc_opt(uplift_tab, 120000, 0.2, 14.99, 1.5)\n",
        "uplift_profits_logit"
      ],
      "id": "7d51fb2e",
      "execution_count": null,
      "outputs": []
    },
    {
      "cell_type": "code",
      "metadata": {},
      "source": [
        "logit_mod = pd.DataFrame({\n",
        "    \"model\": [\"Uplift\", \"Propensity\"],\n",
        "    \"incremental_profits\": [uplift_profits_logit, propensity_profits_logit]\n",
        "})\n",
        "logit_mod.sort_values(\"incremental_profits\", ascending=False)\n",
        "logit_mod"
      ],
      "id": "c35ec3f3",
      "execution_count": null,
      "outputs": []
    },
    {
      "cell_type": "markdown",
      "metadata": {},
      "source": [
        "### Neural Network\n"
      ],
      "id": "78bbb749"
    },
    {
      "cell_type": "code",
      "metadata": {},
      "source": [
        "# Propensity Model\n",
        "propensity_profits_nn = prof_calc_opt(prop_tab_nn, 120000, 0.45, 14.99, 1.5)\n",
        "propensity_profits_nn"
      ],
      "id": "84ca5b40",
      "execution_count": null,
      "outputs": []
    },
    {
      "cell_type": "code",
      "metadata": {},
      "source": [
        "# Uplift Model\n",
        "uplift_profits_nn = prof_calc_opt(uplift_tab_nn, 120000, 0.3, 14.99, 1.5)\n",
        "uplift_profits_nn"
      ],
      "id": "a7ea1af2",
      "execution_count": null,
      "outputs": []
    },
    {
      "cell_type": "code",
      "metadata": {},
      "source": [
        "nn_mod = pd.DataFrame({\n",
        "    \"model\": [\"Uplift\", \"Propensity\"],\n",
        "    \"incremental_profits\": [uplift_profits_nn, propensity_profits_nn]\n",
        "})\n",
        "nn_mod.sort_values(\"incremental_profits\", ascending=False)\n",
        "nn_mod"
      ],
      "id": "14a9398a",
      "execution_count": null,
      "outputs": []
    },
    {
      "cell_type": "markdown",
      "metadata": {},
      "source": [
        "### Random Forest\n"
      ],
      "id": "0dd5454e"
    },
    {
      "cell_type": "code",
      "metadata": {},
      "source": [
        "# Propensity Model\n",
        "propensity_profits_rf = prof_calc_opt(prop_tab_rf, 120000, 0.25, 14.99, 1.5)\n",
        "propensity_profits_rf"
      ],
      "id": "d9fbeb6f",
      "execution_count": null,
      "outputs": []
    },
    {
      "cell_type": "code",
      "metadata": {},
      "source": [
        "# Uplift Model\n",
        "uplift_profits_rf = prof_calc_opt(uplift_tab_rf, 120000, 0.15, 14.99, 1.5)\n",
        "uplift_profits_rf"
      ],
      "id": "e110a181",
      "execution_count": null,
      "outputs": []
    },
    {
      "cell_type": "code",
      "metadata": {},
      "source": [
        "rf_mod = pd.DataFrame({\n",
        "    \"model\": [\"Uplift\", \"Propensity\"],\n",
        "    \"incremental_profits\": [uplift_profits_rf, propensity_profits_rf]\n",
        "})\n",
        "rf_mod.sort_values(\"incremental_profits\", ascending=False)\n",
        "rf_mod"
      ],
      "id": "7db152e1",
      "execution_count": null,
      "outputs": []
    },
    {
      "cell_type": "markdown",
      "metadata": {},
      "source": [
        "### XGBoost Model\n"
      ],
      "id": "ad790234"
    },
    {
      "cell_type": "code",
      "metadata": {},
      "source": [
        "# Propensity Model\n",
        "propensity_profits_xgb = prof_calc_opt(propensity_tab_xgb, 120000, 0.5, 14.99, 1.5)\n",
        "propensity_profits_xgb"
      ],
      "id": "bfa19ac2",
      "execution_count": null,
      "outputs": []
    },
    {
      "cell_type": "code",
      "metadata": {},
      "source": [
        "# Uplift Model\n",
        "uplift_profits_xgb = prof_calc_opt(uplift_tab_xgb, 120000, 0.3, 14.99, 1.5)\n",
        "uplift_profits_xgb"
      ],
      "id": "e1982fab",
      "execution_count": null,
      "outputs": []
    },
    {
      "cell_type": "code",
      "metadata": {},
      "source": [
        "xgb_mod = pd.DataFrame({\n",
        "    \"model\": [\"Uplift\", \"Propensity\"],\n",
        "    \"incremental_profits\": [uplift_profits_xgb, propensity_profits_xgb]\n",
        "})\n",
        "xgb_mod.sort_values(\"incremental_profits\", ascending=False)\n",
        "xgb_mod"
      ],
      "id": "8224070c",
      "execution_count": null,
      "outputs": []
    },
    {
      "cell_type": "code",
      "metadata": {},
      "source": [
        "uplift_profit_dct = {\n",
        "    \"Logit_Uplift\": uplift_profits_logit,\n",
        "    \"NN_Uplift\": uplift_profits_nn, \n",
        "    \"RF_Uplift\": uplift_profits_rf,\n",
        "    \"XGB_Uplift\": uplift_profits_xgb}"
      ],
      "id": "4ddbb2aa",
      "execution_count": null,
      "outputs": []
    },
    {
      "cell_type": "code",
      "metadata": {},
      "source": [
        "propensity_profit_dct = {\n",
        "    \"Logit_Propensity\": propensity_profits_logit,\n",
        "    \"NN_Propensity\": propensity_profits_nn, \n",
        "    \"RF_Propensity\": propensity_profits_nn,\n",
        "    \"XGB_Propensity\": propensity_profits_xgb}"
      ],
      "id": "2b1754e2",
      "execution_count": null,
      "outputs": []
    },
    {
      "cell_type": "code",
      "metadata": {},
      "source": [
        "# Convert dictionary to DataFrame\n",
        "df = pd.DataFrame(list(uplift_profit_dct.items()), columns=['Model', 'IncrementalProfit'])\n",
        "plt.figure(figsize=(12, 5))  # Adjust the width and height to your preference\n",
        "# Plot\n",
        "sns.set(style=\"white\")\n",
        "ax = sns.barplot(x=\"Model\", y=\"IncrementalProfit\", data=df, palette=\"magma\")\n",
        "\n",
        "# Annotations\n",
        "for index, row in df.iterrows():\n",
        "    ax.text(index, row.IncrementalProfit, f'${row.IncrementalProfit:.2f}', ha='center')\n",
        "\n",
        "# Set labels and title\n",
        "ax.set_xlabel(\"Model Type\", fontdict={'family': 'serif', 'color': 'black', 'size': 12})\n",
        "ax.set_ylabel(\"Incremental Profit\", fontdict={'family': 'serif', 'color': 'black', 'size': 12})\n",
        "ax.set_title(\"Uplift Incremental Profit by Model\", fontdict={'family': 'serif', 'color': 'black', 'size': 15})\n",
        "\n",
        "plt.xticks(rotation=45)  # Rotate x labels for better readability\n",
        "plt.show()"
      ],
      "id": "cccfd744",
      "execution_count": null,
      "outputs": []
    },
    {
      "cell_type": "code",
      "metadata": {},
      "source": [
        "# Convert dictionary to DataFrame\n",
        "df = pd.DataFrame(list(propensity_profit_dct.items()), columns=['Model', 'IncrementalProfit'])\n",
        "plt.figure(figsize=(12, 5))  # Adjust the width and height to your preference\n",
        "# Plot\n",
        "sns.set(style=\"white\")\n",
        "ax = sns.barplot(x=\"Model\", y=\"IncrementalProfit\", data=df, palette=\"magma\")\n",
        "\n",
        "# Annotations\n",
        "for index, row in df.iterrows():\n",
        "    ax.text(index, row.IncrementalProfit, f'${row.IncrementalProfit:.2f}', ha='center')\n",
        "\n",
        "# Set labels and title\n",
        "ax.set_xlabel(\"Model Type\", fontdict={'family': 'serif', 'color': 'black', 'size': 12})\n",
        "ax.set_ylabel(\"Incremental Profit\", fontdict={'family': 'serif', 'color': 'black', 'size': 12})\n",
        "ax.set_title(\"Propensity Incremental Profit by Model\", fontdict={'family': 'serif', 'color': 'black', 'size': 15})\n",
        "\n",
        "plt.xticks(rotation=45)  # Rotate x labels for better readability\n",
        "plt.show()"
      ],
      "id": "a26f497d",
      "execution_count": null,
      "outputs": []
    },
    {
      "cell_type": "markdown",
      "metadata": {},
      "source": [
        "In this situation where the goal is to maximize the total number of conversions, a propensity model shows to be more effective. It targets a broader audience, including those who are already likely to convert without any intervention. The uplift model, on the other hand, targets only those who are likely to convert because of the intervention. This is why the propensity model is more effective in this case.\n",
        "\n",
        "The propensity model is also used for broad targeting and segmentation, helping to focus resources on high-probability events. The uplift model is used for optimizing marketing campaigns and other interventions by targeting those individuals whose behavior can be positively changed by the intervention, thus maximizing ROI and reducing wastage. This causes the propensity model to capture a higher profit, where as the uplift model captures a higher ROI. \n",
        "\n",
        "In essence, while both models are used to enhance decision-making in marketing and other fields, they serve different strategic purposes: propensity models for predicting actions based on existing propensities, and uplift models for identifying the additional impact of a particular action or intervention.\n"
      ],
      "id": "73dba52e"
    }
  ],
  "metadata": {
    "kernelspec": {
      "name": "python3",
      "language": "python",
      "display_name": "Python 3 (ipykernel)"
    }
  },
  "nbformat": 4,
  "nbformat_minor": 5
}