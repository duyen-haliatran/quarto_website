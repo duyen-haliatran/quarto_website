{
  "cells": [
    {
      "cell_type": "raw",
      "metadata": {},
      "source": [
        "---\n",
        "title: Machine Learning for Uplift\n",
        "format: \n",
        "    dashboard:\n",
        "        orientation: rows\n",
        "---"
      ],
      "id": "69a1c0a0"
    },
    {
      "cell_type": "markdown",
      "metadata": {},
      "source": [
        "# Column {.tabset}\n",
        "\n",
        "## Tab 1\n",
        "\n",
        "### Row\n",
        "\n",
        "Uplift and Propensity using Logistic Regression\n",
        "\n",
        "#### Column\n"
      ],
      "id": "b999b643"
    },
    {
      "cell_type": "code",
      "metadata": {
        "title": "Gains curves of Uplift Model"
      },
      "source": [
        "import pandas as pd\n",
        "import numpy as np\n",
        "import pyrsm as rsm\n",
        "from sklearn.model_selection import GridSearchCV\n",
        "\n",
        "cg_organic_control = pd.read_parquet(\"/Users/duyentran/Desktop/UCSD_Study/MGTA495-MA/quarto_website/projects/cg/cg_organic_control.parquet\").reset_index(drop=True)\n",
        "\n",
        "\n",
        "## loading the treatment data\n",
        "cg_ad_treatment = pd.read_parquet(\"/Users/duyentran/Desktop/UCSD_Study/MGTA495-MA/quarto_website/projects/cg/cg_ad_treatment.parquet\").reset_index(drop=True)\n",
        "\n",
        "\n",
        "# Load the ad random data\"\n",
        "cg_ad_random = pd.read_parquet(\"/Users/duyentran/Desktop/UCSD_Study/MGTA495-MA/quarto_website/projects/cg/cg_ad_random.parquet\")\n",
        "\n",
        "# a. Add \"ad\" to cg_ad_random and set its value to 1 for all rows\n",
        "cg_ad_random[\"ad\"] = 1\n",
        "\n",
        "# b. Add \"ad\" to cg_organic_control and set its value to 0 for all rows\n",
        "cg_organic_control[\"ad\"] = 0\n",
        "\n",
        "# c. Create a stacked dataset by combining cg_ad_random and cg_organic_control\n",
        "cg_rct_stacked = pd.concat([cg_ad_random, cg_organic_control], axis=0)\n",
        "\n",
        "cg_rct_stacked['converted_yes']= rsm.ifelse(\n",
        "    cg_rct_stacked.converted == \"yes\", 1, rsm.ifelse(cg_rct_stacked.converted == \"no\", 0, np.nan)\n",
        ")\n",
        "\n",
        "\n",
        "# d. Create a training variable\n",
        "cg_rct_stacked['training'] = rsm.model.make_train(\n",
        "    data=cg_rct_stacked, test_size=0.3, strat_var=['converted', 'ad'], random_state = 1234)\n",
        "\n",
        "# Assign variables to evar\n",
        "evar = [\n",
        "        \"GameLevel\",\n",
        "        \"NumGameDays\",\n",
        "        \"NumGameDays4Plus\",\n",
        "        \"NumInGameMessagesSent\",\n",
        "        \"NumFriends\",\n",
        "        \"NumFriendRequestIgnored\",\n",
        "        \"NumSpaceHeroBadges\",\n",
        "        \"AcquiredSpaceship\",\n",
        "        \"AcquiredIonWeapon\",\n",
        "        \"TimesLostSpaceship\",\n",
        "        \"TimesKilled\",\n",
        "        \"TimesCaptain\",\n",
        "        \"TimesNavigator\",\n",
        "        \"PurchasedCoinPackSmall\",\n",
        "        \"PurchasedCoinPackLarge\",\n",
        "        \"NumAdsClicked\",\n",
        "        \"DaysUser\",\n",
        "        \"UserConsole\",\n",
        "        \"UserHasOldOS\"\n",
        "    ]\n",
        "\n",
        "lr_treatment = rsm.model.logistic(\n",
        "    data = {'cg_rct_stacked': cg_rct_stacked.query(\"training == 1 & ad == 1\")},\n",
        "    rvar = 'converted',\n",
        "    lev = 'yes',\n",
        "    evar = evar,\n",
        ")\n",
        "\n",
        "lr_control = rsm.model.logistic(\n",
        "    data={'cg_rct_stacked': cg_rct_stacked.query(\"training == 1 & ad == 0\")},\n",
        "    rvar = 'converted',\n",
        "    lev = 'yes',\n",
        "    evar = evar\n",
        ")\n",
        "\n",
        "cg_rct_stacked[\"pred_treatment\"] = lr_treatment.predict(cg_rct_stacked)[\"prediction\"]\n",
        "cg_rct_stacked[\"pred_control\"] = lr_control.predict(cg_rct_stacked)[\"prediction\"]\n",
        "\n",
        "cg_rct_stacked[\"uplift_score\"] = (\n",
        "    cg_rct_stacked.pred_treatment - cg_rct_stacked.pred_control\n",
        ")\n",
        "\n",
        "uplift_tab = rsm.uplift_tab(\n",
        "    cg_rct_stacked.query(\"training == 0\"), \"converted\", \"yes\", \"uplift_score\", \"ad\", 1, qnt = 20\n",
        ")\n",
        "\n",
        "fig = rsm.inc_uplift_plot(\n",
        "    cg_rct_stacked.query(\"training == 0\"), \"converted\", \"yes\", \"uplift_score\", \"ad\", 1, qnt = 20\n",
        ")"
      ],
      "id": "1ad61da0",
      "execution_count": null,
      "outputs": []
    },
    {
      "cell_type": "code",
      "metadata": {
        "title": "Gains plot of Uplift Model"
      },
      "source": [
        "fig = rsm.uplift_plot(\n",
        "    cg_rct_stacked.query(\"training == 0\"), \"converted\", \"yes\", \"uplift_score\", \"ad\", 1, qnt = 20\n",
        ")"
      ],
      "id": "7caa2640",
      "execution_count": null,
      "outputs": []
    },
    {
      "cell_type": "markdown",
      "metadata": {},
      "source": [
        "### Row\n",
        "#### Column\n"
      ],
      "id": "bb78c287"
    },
    {
      "cell_type": "code",
      "metadata": {
        "title": "Gains curves of Propensity Model"
      },
      "source": [
        "price = 14.99\n",
        "cost = 1.5\n",
        "\n",
        "target_row = uplift_tab[uplift_tab['cum_prop'] <= 0.25].iloc[-1]\n",
        "\n",
        "# Define the function to calculate the profit\n",
        "def prof_calc(data, price = 14.99, cost = 1.5):\n",
        "    # Given variables\n",
        "    target_customers = 30000\n",
        "    target_prop = 30000 / 120000\n",
        "\n",
        "    # Calculate the scale factor\n",
        "    scale_factor = 120000 / 9000\n",
        "\n",
        "    # Calculate the expected incremental customers and profits\n",
        "    target_row = data[data['cum_prop'] <= target_prop].iloc[-1]\n",
        "    profit = (price*target_row['incremental_resp'] - cost * target_row['T_n']) * scale_factor\n",
        "    return profit\n",
        "\n",
        "uplift_profit_logit = prof_calc(uplift_tab, 14.99, 1.5)\n",
        "uplift_profit_logit\n",
        "\n",
        "propensity_tab = rsm.uplift_tab(\n",
        "    cg_rct_stacked.query(\"training == 0\"), \"converted\", \"yes\", \"pred_treatment\", \"ad\", 1, qnt = 20)\n",
        "\n",
        "fig = rsm.inc_uplift_plot(\n",
        "    cg_rct_stacked.query(\"training == 0\"), \"converted\", \"yes\", \"pred_treatment\", \"ad\", 1, qnt = 20)"
      ],
      "id": "64cbbdb2",
      "execution_count": null,
      "outputs": []
    },
    {
      "cell_type": "code",
      "metadata": {
        "title": "Gains plot of Propensity Model"
      },
      "source": [
        "fig = rsm.uplift_plot(\n",
        "    cg_rct_stacked.query(\"training == 0\"), \n",
        "    \"converted\", \"yes\", \"pred_treatment\", \"ad\", 1, qnt = 20)"
      ],
      "id": "336a09af",
      "execution_count": null,
      "outputs": []
    },
    {
      "cell_type": "markdown",
      "metadata": {},
      "source": [
        "### Row\n",
        "#### Column\n"
      ],
      "id": "c0b06dc9"
    },
    {
      "cell_type": "code",
      "metadata": {
        "title": "Compare Gain Curves Uplift model and Propensity model"
      },
      "source": [
        "fig = rsm.inc_uplift_plot(\n",
        "    cg_rct_stacked.query(\"training == 0\"),\n",
        "    \"converted\",\n",
        "    \"yes\",\n",
        "    [\"pred_treatment\", \"uplift_score\"],\n",
        "    \"ad\",\n",
        "    1, qnt = 20\n",
        ")"
      ],
      "id": "e25d7ddb",
      "execution_count": null,
      "outputs": []
    },
    {
      "cell_type": "code",
      "metadata": {
        "title": "Compare Gain plot Uplift model and Propensity model"
      },
      "source": [
        "fig = rsm.uplift_plot(\n",
        "    cg_rct_stacked.query(\"training == 0\"),\n",
        "    \"converted\",\n",
        "    \"yes\",\n",
        "    [\"pred_treatment\", \"uplift_score\"],\n",
        "    \"ad\",\n",
        "    1, qnt = 20\n",
        ")"
      ],
      "id": "99605e20",
      "execution_count": null,
      "outputs": []
    },
    {
      "cell_type": "markdown",
      "metadata": {},
      "source": [
        "# Column {.tabset}\n",
        "\n",
        "## Tab 2\n",
        "\n",
        "### Row\n",
        "\n",
        "Neural Network Model\n",
        "\n",
        "#### Column\n"
      ],
      "id": "842330fd"
    },
    {
      "cell_type": "code",
      "metadata": {
        "title": "Gain plot - Uplift Model"
      },
      "source": [
        "clf_treatment = rsm.model.mlp(\n",
        "    data = {'cg_rct_stacked': cg_rct_stacked.query(\"training == 1 & ad == 1\")},\n",
        "    rvar = 'converted',\n",
        "    lev = 'yes',\n",
        "    evar = evar,\n",
        "    hidden_layer_sizes = (4, 2),\n",
        "    alpha = 0.0001\n",
        ")\n",
        "\n",
        "clf_control = rsm.model.mlp(\n",
        "    data = {'cg_rct_stacked': cg_rct_stacked.query(\"training == 1 & ad == 0\")},\n",
        "    rvar = 'converted',\n",
        "    lev = 'yes',\n",
        "    evar = evar,\n",
        "    hidden_layer_sizes = (4,2),\n",
        "    alpha = 1\n",
        ")\n",
        "\n",
        "cg_rct_stacked[\"pred_treatment_nn\"] = clf_treatment.predict(cg_rct_stacked)[\"prediction\"]\n",
        "cg_rct_stacked[\"pred_control_nn\"] = clf_control.predict(cg_rct_stacked)[\"prediction\"]\n",
        "\n",
        "cg_rct_stacked[\"uplift_score_nn\"] = (\n",
        "    cg_rct_stacked.pred_treatment_nn - cg_rct_stacked.pred_control_nn\n",
        ")\n",
        "\n",
        "uplift_tab_nn = rsm.uplift_tab(\n",
        "    cg_rct_stacked.query(\"training == 0\"), \"converted\", \"yes\", \"uplift_score_nn\", \"ad\", 1, qnt = 20\n",
        ")\n",
        "\n",
        "fig = rsm.inc_uplift_plot(\n",
        "    cg_rct_stacked.query(\"training == 0\"), \"converted\", \"yes\", \"uplift_score_nn\", \"ad\", 1, qnt = 20\n",
        ")"
      ],
      "id": "701f0e73",
      "execution_count": null,
      "outputs": []
    },
    {
      "cell_type": "code",
      "metadata": {
        "title": "Gain plot - Uplift plot"
      },
      "source": [
        "fig = rsm.uplift_plot(\n",
        "    cg_rct_stacked.query(\"training == 0\"), \"converted\", \"yes\", \"uplift_score_nn\", \"ad\", 1, qnt = 20\n",
        ")"
      ],
      "id": "fac11ca3",
      "execution_count": null,
      "outputs": []
    },
    {
      "cell_type": "markdown",
      "metadata": {},
      "source": [
        "### Row\n",
        "#### Column\n"
      ],
      "id": "5eafa555"
    },
    {
      "cell_type": "code",
      "metadata": {
        "title": "Gain curves - Propensity Model"
      },
      "source": [
        "fig = rsm.inc_uplift_plot(\n",
        "    cg_rct_stacked.query(\"training == 0\"), \"converted\", \"yes\", \"pred_treatment_nn\", \"ad\", 1, qnt = 20\n",
        ")"
      ],
      "id": "03a4b831",
      "execution_count": null,
      "outputs": []
    },
    {
      "cell_type": "code",
      "metadata": {
        "title": "Gain plot - Propensity Model"
      },
      "source": [
        "fig = rsm.uplift_plot(\n",
        "    cg_rct_stacked.query(\"training == 0\"), \"converted\", \"yes\", \"pred_treatment_nn\", \"ad\", 1, qnt = 20\n",
        ")"
      ],
      "id": "268b3595",
      "execution_count": null,
      "outputs": []
    },
    {
      "cell_type": "markdown",
      "metadata": {},
      "source": [
        "### Row\n",
        "#### Column\n"
      ],
      "id": "0442efbc"
    },
    {
      "cell_type": "code",
      "metadata": {
        "title": "Gain curves - Comparision Uplift and Propensity Model"
      },
      "source": [
        "fig = rsm.uplift_plot(\n",
        "    cg_rct_stacked.query(\"training == 0\"),\n",
        "    \"converted\",\n",
        "    \"yes\",\n",
        "    [\"pred_treatment_nn\", \"uplift_score_nn\"],\n",
        "    \"ad\",\n",
        "    1, qnt = 20\n",
        ")"
      ],
      "id": "f3585932",
      "execution_count": null,
      "outputs": []
    },
    {
      "cell_type": "code",
      "metadata": {
        "title": "Gain plot - Comparision Uplift and Propensity Model"
      },
      "source": [
        "fig = rsm.uplift_plot(\n",
        "    cg_rct_stacked.query(\"training == 0\"),\n",
        "    \"converted\",\n",
        "    \"yes\",\n",
        "    [\"pred_treatment_nn\", \"uplift_score_nn\"],\n",
        "    \"ad\",\n",
        "    1, qnt = 20\n",
        ")"
      ],
      "id": "278d13a7",
      "execution_count": null,
      "outputs": []
    },
    {
      "cell_type": "markdown",
      "metadata": {},
      "source": [
        "# Column {.tabset}\n",
        "\n",
        "## Tab 3\n",
        "\n",
        "### Row\n",
        "\n",
        "Random Forest Model\n",
        "\n",
        "#### Column\n"
      ],
      "id": "3e93f79b"
    },
    {
      "cell_type": "code",
      "metadata": {
        "title": "Gain curves - Uplift Model"
      },
      "source": [
        "rf_treatment = rsm.model.rforest(\n",
        "    data = {'cg_rct_stacked': cg_rct_stacked.query(\"training == 1 & ad == 1\")},\n",
        "    rvar = 'converted',\n",
        "    lev = 'yes',\n",
        "    evar = evar,\n",
        "    max_features = 0.25,\n",
        "    n_estimators = 1000\n",
        ")\n",
        "\n",
        "rf_control = rsm.model.rforest(\n",
        "    data = {'cg_rct_stacked': cg_rct_stacked.query(\"training == 1 & ad == 0\")},\n",
        "    rvar = 'converted',\n",
        "    lev = 'yes',\n",
        "    evar = evar,\n",
        "    max_features = 0.25,\n",
        "    n_estimators = 1000\n",
        ")\n",
        "\n",
        "# Predictions\n",
        "cg_rct_stacked[\"pred_treatment_rf\"] = rf_treatment.predict(cg_rct_stacked)[\"prediction\"]\n",
        "cg_rct_stacked[\"pred_control_rf\"] = rf_control.predict(cg_rct_stacked)[\"prediction\"]\n",
        "\n",
        "cg_rct_stacked[\"uplift_score_rf\"] = (\n",
        "    cg_rct_stacked.pred_treatment_rf - cg_rct_stacked.pred_control_rf\n",
        ")\n",
        "\n",
        "uplift_tab_rf = rsm.uplift_tab(\n",
        "    cg_rct_stacked.query(\"training == 0\"), \"converted\", \"yes\", \"uplift_score_rf\", \"ad\", 1, qnt = 20\n",
        ")\n",
        "\n",
        "fig = rsm.inc_uplift_plot(\n",
        "    cg_rct_stacked.query(\"training == 0\"), \"converted\", \"yes\", \"uplift_score_rf\", \"ad\", 1, qnt = 20\n",
        ")"
      ],
      "id": "11d9d8fe",
      "execution_count": null,
      "outputs": []
    },
    {
      "cell_type": "code",
      "metadata": {
        "title": "Gain Plot - Uplift Model"
      },
      "source": [
        "fig = rsm.uplift_plot(\n",
        "    cg_rct_stacked.query(\"training == 0\"), \"converted\", \"yes\", \"uplift_score_rf\", \"ad\", 1, qnt = 20\n",
        ")"
      ],
      "id": "28e75eb8",
      "execution_count": null,
      "outputs": []
    },
    {
      "cell_type": "markdown",
      "metadata": {},
      "source": [
        "### Row\n",
        "#### Column"
      ],
      "id": "2ee7df39"
    },
    {
      "cell_type": "code",
      "metadata": {},
      "source": [
        "fig = rsm.inc_uplift_plot(\n",
        "    cg_rct_stacked.query(\"training == 0\"), \"converted\", \"yes\", \"pred_treatment_rf\", \"ad\", 1, qnt = 20\n",
        ")"
      ],
      "id": "8be23c54",
      "execution_count": null,
      "outputs": []
    },
    {
      "cell_type": "code",
      "metadata": {
        "title": "Gain Plot - Uplift Model"
      },
      "source": [
        "fig = rsm.uplift_plot(\n",
        "    cg_rct_stacked.query(\"training == 0\"), \"converted\", \"yes\", \"pred_treatment_rf\", \"ad\", 1, qnt = 20\n",
        ")"
      ],
      "id": "bfb40769",
      "execution_count": null,
      "outputs": []
    },
    {
      "cell_type": "markdown",
      "metadata": {},
      "source": [
        "### Row\n",
        "#### Column\n"
      ],
      "id": "d10c9789"
    },
    {
      "cell_type": "code",
      "metadata": {
        "title": "Gain curves - Comparision Uplift and Propensity Model"
      },
      "source": [
        "uplift_profit_rf = prof_calc(uplift_tab_rf, 14.99, 1.5)\n",
        "\n",
        "prop_tab_rf = rsm.uplift_tab(\n",
        "    cg_rct_stacked.query(\"training == 0\"), \"converted\", \"yes\", \"pred_treatment_rf\", \"ad\", 1, qnt = 20\n",
        ")\n",
        "\n",
        "fig = rsm.inc_uplift_plot(\n",
        "    cg_rct_stacked.query(\"training == 0\"),\n",
        "    \"converted\",\n",
        "    \"yes\",\n",
        "    [\"pred_treatment_rf\", \"uplift_score_rf\"],\n",
        "    \"ad\",\n",
        "    1, qnt = 20\n",
        ")"
      ],
      "id": "59eaa8b8",
      "execution_count": null,
      "outputs": []
    },
    {
      "cell_type": "code",
      "metadata": {
        "title": "Gain plot - Comparision Uplift and Propensity Model"
      },
      "source": [
        "fig = rsm.uplift_plot(\n",
        "    cg_rct_stacked.query(\"training == 0\"),\n",
        "    \"converted\",\n",
        "    \"yes\",\n",
        "    [\"pred_treatment_rf\", \"uplift_score_rf\"],\n",
        "    \"ad\",\n",
        "    1, qnt = 20\n",
        ")"
      ],
      "id": "9db495b9",
      "execution_count": null,
      "outputs": []
    }
  ],
  "metadata": {
    "kernelspec": {
      "name": "python3",
      "language": "python",
      "display_name": "Python 3 (ipykernel)"
    }
  },
  "nbformat": 4,
  "nbformat_minor": 5
}