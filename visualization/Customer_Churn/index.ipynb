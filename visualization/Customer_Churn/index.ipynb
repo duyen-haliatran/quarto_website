{
  "cells": [
    {
      "cell_type": "raw",
      "metadata": {},
      "source": [
        "---\n",
        "title: \"S-mobile Customer Churn\"\n",
        "format: \n",
        "    dashboard:\n",
        "        orientation: rows\n",
        "---"
      ],
      "id": "0961c298"
    },
    {
      "cell_type": "code",
      "metadata": {
        "tags": [
          "parameters"
        ]
      },
      "source": [
        "# to render w/ a different product type:\n",
        "# quarto render dashboard.qmd -P product_type:Premium\n",
        "\n",
        "product_type = \"Standard\""
      ],
      "id": "065f003f",
      "execution_count": null,
      "outputs": []
    },
    {
      "cell_type": "code",
      "metadata": {},
      "source": [
        "import pandas as pd\n",
        "# from helpers import color_palette, plpipot_churn_reason, plot_contract_type, table_purchases\n",
        "# from matplotlib import rcParams\n",
        "# from itables import show\n",
        "\n",
        "# rcParams.update({\"savefig.bbox\": \"tight\"})\n",
        "\n",
        "churn = pd.read_parquet('./Visualization/Customer_Churn/s_mobile.parquet')\n",
        "churn"
      ],
      "id": "f822fe63",
      "execution_count": null,
      "outputs": []
    },
    {
      "cell_type": "code",
      "metadata": {},
      "source": [
        "len(churn[churn['churn'] == \"no\"])"
      ],
      "id": "3a7adced",
      "execution_count": null,
      "outputs": []
    },
    {
      "cell_type": "markdown",
      "metadata": {},
      "source": [
        "# Churn (`{python} product_type`)\n",
        "\n",
        "## Row\n"
      ],
      "id": "0f169ada"
    },
    {
      "cell_type": "code",
      "metadata": {
        "content": "valuebox",
        "title": "Total record"
      },
      "source": [
        "dict(\n",
        "  icon = \"archive\",\n",
        "  color = \"light\",\n",
        "  value = \"69,000\"\n",
        ")"
      ],
      "id": "71ad5e81",
      "execution_count": null,
      "outputs": []
    },
    {
      "cell_type": "code",
      "metadata": {
        "content": "valuebox",
        "title": "Retaining Customer"
      },
      "source": [
        "dict(\n",
        "  icon = \"graph-down\",\n",
        "  color = \"light\",\n",
        "  value = \"20,100\"\n",
        ")"
      ],
      "id": "49194969",
      "execution_count": null,
      "outputs": []
    },
    {
      "cell_type": "code",
      "metadata": {
        "content": "valuebox",
        "title": "Exit Customers"
      },
      "source": [
        "dict(\n",
        "  icon = \"graph-down\",\n",
        "  color = \"light\",\n",
        "  value = \"48,900\"\n",
        ")"
      ],
      "id": "28c620ca",
      "execution_count": null,
      "outputs": []
    },
    {
      "cell_type": "code",
      "metadata": {
        "content": "valuebox",
        "title": "Current churn rate"
      },
      "source": [
        "dict(\n",
        "  icon = \"bullseye\",\n",
        "  color = \"warning\",\n",
        "  value = \"10%\"\n",
        ")"
      ],
      "id": "937a6f27",
      "execution_count": null,
      "outputs": []
    },
    {
      "cell_type": "markdown",
      "metadata": {},
      "source": [
        "## Row {height=\"40%\"}\n"
      ],
      "id": "c41ddd7e"
    },
    {
      "cell_type": "code",
      "metadata": {},
      "source": [
        "import matplotlib.pyplot as plt\n",
        "import seaborn as sns\n",
        "#| title: Customer Care Calls by Churn Status\n",
        "plt.figure(figsize=(10, 6))\n",
        "sns.boxplot(x='churn', y='custcare', data=churn, palette = ['#ff9999', '#66b3ff'])\n",
        "plt.title('Customer Care Calls by Churn Status')\n",
        "plt.xlabel('Churn')\n",
        "plt.ylabel('Customer Care Calls')\n",
        "plt.show()"
      ],
      "id": "d4b005e5",
      "execution_count": null,
      "outputs": []
    },
    {
      "cell_type": "code",
      "metadata": {
        "title": "Refurbished Status by Churn Rate"
      },
      "source": [
        "plt.figure(figsize=(10, 6))\n",
        "sns.countplot(x='refurb', hue='churn', data=churn, palette = ['#ff9999', '#66b3ff'])\n",
        "plt.title('Churn Rate by Refurbished Status')\n",
        "plt.xlabel('Refurbished Status')\n",
        "plt.ylabel('Count')\n",
        "plt.show()"
      ],
      "id": "fcb8a238",
      "execution_count": null,
      "outputs": []
    },
    {
      "cell_type": "markdown",
      "metadata": {},
      "source": [
        "## Row"
      ],
      "id": "dfe21737"
    },
    {
      "cell_type": "code",
      "metadata": {},
      "source": [
        "plt.figure(figsize=(12, 8))\n",
        "corr = data.corr()\n",
        "sns.heatmap(corr, annot=True, cmap='coolwarm', center=0)\n",
        "plt.title('Correlation Heatmap')\n",
        "plt.show()"
      ],
      "id": "0f9ade83",
      "execution_count": null,
      "outputs": []
    },
    {
      "cell_type": "markdown",
      "metadata": {},
      "source": [
        "## Row\n"
      ],
      "id": "43c45d97"
    },
    {
      "cell_type": "code",
      "metadata": {
        "title": "Purchase characteristics"
      },
      "source": [
        "from IPython.display import Markdown\n",
        "characteristics = table_purchases(purchase_characteristics, product_type)\n",
        "Markdown(characteristics.to_markdown(index = False))"
      ],
      "id": "37da8d5d",
      "execution_count": null,
      "outputs": []
    },
    {
      "cell_type": "markdown",
      "metadata": {},
      "source": [
        "# Data \n"
      ],
      "id": "86594f11"
    },
    {
      "cell_type": "code",
      "metadata": {
        "title": "Churn Reason"
      },
      "source": [
        "show(churn_reason[churn_reason[\"product\"]==product_type])"
      ],
      "id": "75744c97",
      "execution_count": null,
      "outputs": []
    },
    {
      "cell_type": "code",
      "metadata": {
        "title": "Contracts by State"
      },
      "source": [
        "show(churn[churn['product'] == product_type]\n",
        "  .groupby(['contract', 'state'])\n",
        "  .size()\n",
        "  .reset_index(name='count'))"
      ],
      "id": "68a9564d",
      "execution_count": null,
      "outputs": []
    }
  ],
  "metadata": {
    "kernelspec": {
      "name": "python3",
      "language": "python",
      "display_name": "Python 3 (ipykernel)"
    }
  },
  "nbformat": 4,
  "nbformat_minor": 5
}